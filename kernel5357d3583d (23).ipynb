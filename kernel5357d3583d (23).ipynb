{
 "cells": [
  {
   "cell_type": "code",
   "execution_count": 1,
   "metadata": {
    "_cell_guid": "b1076dfc-b9ad-4769-8c92-a6c4dae69d19",
    "_uuid": "8f2839f25d086af736a60e9eeb907d3b93b6e0e5"
   },
   "outputs": [
    {
     "name": "stdout",
     "output_type": "stream",
     "text": [
      "/kaggle/input/widsdatathon2020/unlabeled.csv\n",
      "/kaggle/input/widsdatathon2020/solution_template.csv\n",
      "/kaggle/input/widsdatathon2020/training_v2.csv\n",
      "/kaggle/input/widsdatathon2020/WiDS Datathon 2020 Dictionary.csv\n",
      "/kaggle/input/widsdatathon2020/samplesubmission.csv\n"
     ]
    }
   ],
   "source": [
    "# This Python 3 environment comes with many helpful analytics libraries installed\n",
    "# It is defined by the kaggle/python docker image: https://github.com/kaggle/docker-python\n",
    "# For example, here's several helpful packages to load in \n",
    "\n",
    "import numpy as np # linear algebra\n",
    "import pandas as pd # data processing, CSV file I/O (e.g. pd.read_csv)\n",
    "\n",
    "# Input data files are available in the \"../input/\" directory.\n",
    "# For example, running this (by clicking run or pressing Shift+Enter) will list all files under the input directory\n",
    "\n",
    "import os\n",
    "for dirname, _, filenames in os.walk('/kaggle/input'):\n",
    "    for filename in filenames:\n",
    "        print(os.path.join(dirname, filename))\n",
    "\n",
    "# Any results you write to the current directory are saved as output."
   ]
  },
  {
   "cell_type": "code",
   "execution_count": 2,
   "metadata": {
    "_cell_guid": "79c7e3d0-c299-4dcb-8224-4455121ee9b0",
    "_uuid": "d629ff2d2480ee46fbb7e2d37f6b5fab8052498a"
   },
   "outputs": [],
   "source": [
    "import matplotlib.pyplot as plt\n",
    "import seaborn as sns\n",
    "from sklearn.model_selection import train_test_split\n",
    "from sklearn.preprocessing import LabelEncoder\n",
    "from sklearn.preprocessing import StandardScaler\n",
    "from sklearn.impute import SimpleImputer\n",
    "from sklearn.pipeline import Pipeline\n",
    "from sklearn.model_selection import StratifiedKFold, StratifiedShuffleSplit\n",
    "from sklearn.model_selection import cross_val_score\n",
    "from sklearn.impute import SimpleImputer\n",
    "from sklearn.linear_model import LogisticRegression\n",
    "from catboost import Pool, cv, CatBoostClassifier, CatBoostRegressor\n",
    "import catboost as cb\n",
    "import catboost.utils as cbu\n",
    "import hyperopt\n",
    "import sys\n",
    "pd.set_option('display.max_columns', None)\n",
    "pd.set_option('display.max_rows', None)"
   ]
  },
  {
   "cell_type": "code",
   "execution_count": 3,
   "metadata": {},
   "outputs": [],
   "source": [
    "train= pd.read_csv(\"/kaggle/input/widsdatathon2020/training_v2.csv\", header=0)\n",
    "test = pd.read_csv(\"/kaggle/input/widsdatathon2020/unlabeled.csv\")"
   ]
  },
  {
   "cell_type": "code",
   "execution_count": 4,
   "metadata": {},
   "outputs": [],
   "source": [
    "from sklearn.utils import class_weight\n",
    "cw = list(class_weight.compute_class_weight('balanced',\n",
    "                                             np.unique(train['hospital_death']),\n",
    "                                             train['hospital_death']))"
   ]
  },
  {
   "cell_type": "code",
   "execution_count": 5,
   "metadata": {},
   "outputs": [
    {
     "data": {
      "text/plain": [
       "[0.5472266641208621, 5.793619709412508]"
      ]
     },
     "execution_count": 5,
     "metadata": {},
     "output_type": "execute_result"
    }
   ],
   "source": [
    "cw"
   ]
  },
  {
   "cell_type": "code",
   "execution_count": 6,
   "metadata": {},
   "outputs": [
    {
     "name": "stdout",
     "output_type": "stream",
     "text": [
      "['ethnicity', 'gender', 'hospital_admit_source', 'icu_admit_source', 'icu_stay_type', 'icu_type', 'apache_3j_bodysystem', 'apache_2_bodysystem']\n",
      "8\n",
      "178\n",
      "['ethnicity', 'gender', 'hospital_admit_source', 'icu_admit_source', 'icu_stay_type', 'icu_type', 'apache_3j_bodysystem', 'apache_2_bodysystem']\n",
      "8\n",
      "178\n"
     ]
    }
   ],
   "source": [
    "train_categorical_cols = []\n",
    "train_numerical_cols = []\n",
    "for c in  train.columns:\n",
    "    if(train[c].dtype=='object'):\n",
    "        train_categorical_cols.append(c)\n",
    "    else:\n",
    "        train_numerical_cols.append(c)\n",
    "test_categorical_cols = []\n",
    "test_numerical_cols = []\n",
    "for c in  test.columns:\n",
    "    if(test[c].dtype=='object'):\n",
    "        test_categorical_cols.append(c)\n",
    "    else:\n",
    "        test_numerical_cols.append(c)\n",
    "\n",
    "print(train_categorical_cols)\n",
    "print(len(train_categorical_cols))\n",
    "print(len(train_numerical_cols))\n",
    "print(test_categorical_cols)\n",
    "print(len(test_categorical_cols))\n",
    "print(len(test_numerical_cols))"
   ]
  },
  {
   "cell_type": "code",
   "execution_count": 7,
   "metadata": {},
   "outputs": [
    {
     "data": {
      "text/plain": [
       "'\\ndef replace_missing_value(df, number_features):\\n    imputer = SimpleImputer(missing_values=np.nan, strategy=\"mean\")\\n    df_num = df[number_features]\\n    imputer.fit(df_num)\\n    print(df[number_features].head())\\n    df[number_features] = imputer.transform(df_num)\\n    return df\\n'"
      ]
     },
     "execution_count": 7,
     "metadata": {},
     "output_type": "execute_result"
    }
   ],
   "source": [
    "'''\n",
    "def replace_missing_value(df, number_features):\n",
    "    imputer = SimpleImputer(missing_values=np.nan, strategy=\"mean\")\n",
    "    df_num = df[number_features]\n",
    "    imputer.fit(df_num)\n",
    "    print(df[number_features].head())\n",
    "    df[number_features] = imputer.transform(df_num)\n",
    "    return df\n",
    "'''"
   ]
  },
  {
   "cell_type": "code",
   "execution_count": 8,
   "metadata": {},
   "outputs": [],
   "source": [
    "#train[['apache_4a_hospital_death_prob','apache_4a_icu_death_prob']].isna().sum()"
   ]
  },
  {
   "cell_type": "code",
   "execution_count": 9,
   "metadata": {},
   "outputs": [
    {
     "data": {
      "text/plain": [
       "\"\\ntrain.loc[train['apache_4a_hospital_death_prob'].isna(), 'apache_4a_hospital_death_prob'] = -1\\ntrain.loc[train['apache_4a_icu_death_prob'].isna(), 'apache_4a_icu_death_prob'] = -1\\ntest.loc[test['apache_4a_hospital_death_prob'].isna(), 'apache_4a_hospital_death_prob'] = -1\\ntest.loc[test['apache_4a_icu_death_prob'].isna(), 'apache_4a_icu_death_prob'] = -1\\n\""
      ]
     },
     "execution_count": 9,
     "metadata": {},
     "output_type": "execute_result"
    }
   ],
   "source": [
    "'''\n",
    "train.loc[train['apache_4a_hospital_death_prob'].isna(), 'apache_4a_hospital_death_prob'] = -1\n",
    "train.loc[train['apache_4a_icu_death_prob'].isna(), 'apache_4a_icu_death_prob'] = -1\n",
    "test.loc[test['apache_4a_hospital_death_prob'].isna(), 'apache_4a_hospital_death_prob'] = -1\n",
    "test.loc[test['apache_4a_icu_death_prob'].isna(), 'apache_4a_icu_death_prob'] = -1\n",
    "'''\n"
   ]
  },
  {
   "cell_type": "code",
   "execution_count": 10,
   "metadata": {},
   "outputs": [],
   "source": [
    "#train[train['apache_4a_hospital_death_prob'] ==-1]['apache_4a_hospital_death_prob'].count()"
   ]
  },
  {
   "cell_type": "code",
   "execution_count": 11,
   "metadata": {},
   "outputs": [],
   "source": [
    "#train[['apache_4a_hospital_death_prob','apache_4a_icu_death_prob']] = train[['apache_4a_hospital_death_prob','apache_4a_icu_death_prob']].fillna(-1)\n",
    "#test[['apache_4a_hospital_death_prob','apache_4a_icu_death_prob']] = test[['apache_4a_hospital_death_prob','apache_4a_icu_death_prob']].fillna(-1)"
   ]
  },
  {
   "cell_type": "code",
   "execution_count": 12,
   "metadata": {},
   "outputs": [
    {
     "data": {
      "text/plain": [
       "'\\nahd_imp=SimpleImputer(missing_values=-1,strategy=\"median\" )\\nahd_imp.fit(train[[\"apache_4a_hospital_death_prob\"]])\\ntrain[\"apache_4a_hospital_death_prob\"]=ahd_imp.transform(train[[\"apache_4a_hospital_death_prob\"]])\\ntest[\"apache_4a_hospital_death_prob\"]=ahd_imp.transform(test[[\"apache_4a_hospital_death_prob\"]])\\n'"
      ]
     },
     "execution_count": 12,
     "metadata": {},
     "output_type": "execute_result"
    }
   ],
   "source": [
    "'''\n",
    "ahd_imp=SimpleImputer(missing_values=-1,strategy=\"median\" )\n",
    "ahd_imp.fit(train[[\"apache_4a_hospital_death_prob\"]])\n",
    "train[\"apache_4a_hospital_death_prob\"]=ahd_imp.transform(train[[\"apache_4a_hospital_death_prob\"]])\n",
    "test[\"apache_4a_hospital_death_prob\"]=ahd_imp.transform(test[[\"apache_4a_hospital_death_prob\"]])\n",
    "'''"
   ]
  },
  {
   "cell_type": "code",
   "execution_count": 13,
   "metadata": {},
   "outputs": [
    {
     "data": {
      "text/plain": [
       "'\\nahd_imp=SimpleImputer(missing_values=-1,strategy=\"median\" )\\nahd_imp.fit(train[[\"apache_4a_icu_death_prob\"]])\\ntrain[\"apache_4a_icu_death_prob\"]=ahd_imp.transform(train[[\"apache_4a_icu_death_prob\"]])\\ntest[\"apache_4a_icu_death_prob\"]=ahd_imp.transform(test[[\"apache_4a_icu_death_prob\"]])\\n'"
      ]
     },
     "execution_count": 13,
     "metadata": {},
     "output_type": "execute_result"
    }
   ],
   "source": [
    "'''\n",
    "ahd_imp=SimpleImputer(missing_values=-1,strategy=\"median\" )\n",
    "ahd_imp.fit(train[[\"apache_4a_icu_death_prob\"]])\n",
    "train[\"apache_4a_icu_death_prob\"]=ahd_imp.transform(train[[\"apache_4a_icu_death_prob\"]])\n",
    "test[\"apache_4a_icu_death_prob\"]=ahd_imp.transform(test[[\"apache_4a_icu_death_prob\"]])\n",
    "'''"
   ]
  },
  {
   "cell_type": "code",
   "execution_count": 14,
   "metadata": {},
   "outputs": [
    {
     "data": {
      "text/plain": [
       "True"
      ]
     },
     "execution_count": 14,
     "metadata": {},
     "output_type": "execute_result"
    }
   ],
   "source": [
    "'apache_4a_hospital_death_prob' in train_numerical_cols"
   ]
  },
  {
   "cell_type": "code",
   "execution_count": 15,
   "metadata": {},
   "outputs": [],
   "source": [
    "cols_to_remove = [\n",
    "    'apache_post_operative','d1_albumin_max','d1_albumin_min','d1_bilirubin_max','d1_bilirubin_min','d1_bun_max','d1_bun_min','d1_creatinine_max',\n",
    "    'd1_creatinine_min','d1_diasbp_noninvasive_max','d1_diasbp_noninvasive_min','d1_glucose_max','d1_hemaglobin_min','d1_hematocrit_max','d1_hematocrit_min',\n",
    "    'd1_mbp_noninvasive_max','d1_mbp_noninvasive_min','d1_platelets_min','d1_sodium_min','d1_sysbp_noninvasive_max','d1_sysbp_noninvasive_min','d1_wbc_max','d1_wbc_min',\n",
    "    'h1_albumin_min','h1_arterial_pco2_max','h1_arterial_pco2_min','h1_arterial_ph_min','h1_bilirubin_max','h1_bilirubin_min','h1_bun_max','h1_bun_min','h1_calcium_min',\n",
    "    'h1_creatinine_max','h1_creatinine_min', 'h1_diasbp_noninvasive_max','h1_diasbp_noninvasive_min','h1_glucose_min', 'h1_hco3_max', 'h1_hco3_min', 'h1_hemaglobin_max',\n",
    "    'h1_hemaglobin_min', 'h1_hematocrit_max', 'h1_hematocrit_min', 'h1_inr_max', 'h1_inr_min','h1_lactate_max','h1_lactate_min','h1_mbp_noninvasive_max','h1_mbp_noninvasive_min',\n",
    "    'h1_pao2fio2ratio_min','h1_platelets_max','h1_platelets_min','h1_potassium_min','h1_sodium_min', 'h1_sysbp_noninvasive_max','h1_sysbp_noninvasive_min','h1_wbc_max','h1_wbc_min',\n",
    "    'paco2_for_ph_apache','readmission_status'\n",
    "    ]\n",
    "\n",
    "'''\n",
    "cols_to_remove = [\n",
    "    'd1_albumin_max', 'd1_bilirubin_max', 'd1_bilirubin_min', 'd1_bun_max','d1_bun_min','d1_creatinine_max',\n",
    "    'd1_creatinine_min','d1_diasbp_noninvasive_max','d1_diasbp_noninvasive_min', 'd1_hematocrit_max', 'd1_mbp_noninvasive_max','d1_mbp_noninvasive_min', 'd1_platelets_min',\n",
    "    'd1_sysbp_noninvasive_max','d1_sysbp_noninvasive_min','d1_wbc_max', 'h1_albumin_min', 'h1_arterial_pco2_min','h1_bilirubin_max','h1_bilirubin_min','h1_bun_min',\n",
    "    'h1_calcium_min',\n",
    "    'h1_creatinine_max','h1_creatinine_min', 'h1_diasbp_noninvasive_max','h1_diasbp_noninvasive_min','h1_glucose_min', 'h1_hco3_min', 'h1_hemaglobin_min', 'h1_hematocrit_min',\n",
    "    'h1_inr_max', 'h1_inr_min', 'h1_lactate_min', 'h1_mbp_noninvasive_max','h1_mbp_noninvasive_min', 'h1_platelets_min', 'h1_sodium_min', \n",
    "    'h1_sysbp_noninvasive_max','h1_sysbp_noninvasive_min', 'h1_wbc_min', 'paco2_for_ph_apache','readmission_status'\n",
    "]\n",
    "'''\n",
    "cols_to_remove = [\n",
    "    'h1_inr_max', 'h1_inr_min', 'paco2_for_ph_apache','readmission_status'\n",
    "]"
   ]
  },
  {
   "cell_type": "code",
   "execution_count": 16,
   "metadata": {},
   "outputs": [
    {
     "data": {
      "text/plain": [
       "4"
      ]
     },
     "execution_count": 16,
     "metadata": {},
     "output_type": "execute_result"
    }
   ],
   "source": [
    "len(cols_to_remove)"
   ]
  },
  {
   "cell_type": "code",
   "execution_count": 17,
   "metadata": {},
   "outputs": [
    {
     "data": {
      "text/plain": [
       "array([], dtype='<U19')"
      ]
     },
     "execution_count": 17,
     "metadata": {},
     "output_type": "execute_result"
    }
   ],
   "source": [
    "np.setdiff1d(cols_to_remove, train_numerical_cols)"
   ]
  },
  {
   "cell_type": "code",
   "execution_count": 18,
   "metadata": {},
   "outputs": [
    {
     "data": {
      "text/plain": [
       "array(['h1_inr_max', 'h1_inr_min', 'paco2_for_ph_apache',\n",
       "       'readmission_status'], dtype='<U19')"
      ]
     },
     "execution_count": 18,
     "metadata": {},
     "output_type": "execute_result"
    }
   ],
   "source": [
    "np.setdiff1d(cols_to_remove, train_categorical_cols)"
   ]
  },
  {
   "cell_type": "code",
   "execution_count": 19,
   "metadata": {},
   "outputs": [
    {
     "data": {
      "text/html": [
       "<div>\n",
       "<style scoped>\n",
       "    .dataframe tbody tr th:only-of-type {\n",
       "        vertical-align: middle;\n",
       "    }\n",
       "\n",
       "    .dataframe tbody tr th {\n",
       "        vertical-align: top;\n",
       "    }\n",
       "\n",
       "    .dataframe thead th {\n",
       "        text-align: right;\n",
       "    }\n",
       "</style>\n",
       "<table border=\"1\" class=\"dataframe\">\n",
       "  <thead>\n",
       "    <tr style=\"text-align: right;\">\n",
       "      <th></th>\n",
       "      <th>encounter_id</th>\n",
       "      <th>apache_4a_hospital_death_prob</th>\n",
       "    </tr>\n",
       "  </thead>\n",
       "  <tbody>\n",
       "    <tr>\n",
       "      <th>0</th>\n",
       "      <td>66154</td>\n",
       "      <td>0.10</td>\n",
       "    </tr>\n",
       "    <tr>\n",
       "      <th>1</th>\n",
       "      <td>114252</td>\n",
       "      <td>0.47</td>\n",
       "    </tr>\n",
       "    <tr>\n",
       "      <th>2</th>\n",
       "      <td>119783</td>\n",
       "      <td>0.00</td>\n",
       "    </tr>\n",
       "    <tr>\n",
       "      <th>3</th>\n",
       "      <td>79267</td>\n",
       "      <td>0.04</td>\n",
       "    </tr>\n",
       "    <tr>\n",
       "      <th>4</th>\n",
       "      <td>92056</td>\n",
       "      <td>NaN</td>\n",
       "    </tr>\n",
       "  </tbody>\n",
       "</table>\n",
       "</div>"
      ],
      "text/plain": [
       "   encounter_id  apache_4a_hospital_death_prob\n",
       "0         66154                           0.10\n",
       "1        114252                           0.47\n",
       "2        119783                           0.00\n",
       "3         79267                           0.04\n",
       "4         92056                            NaN"
      ]
     },
     "execution_count": 19,
     "metadata": {},
     "output_type": "execute_result"
    }
   ],
   "source": [
    "train[['encounter_id','apache_4a_hospital_death_prob']].head(5)"
   ]
  },
  {
   "cell_type": "code",
   "execution_count": 20,
   "metadata": {},
   "outputs": [],
   "source": [
    "train['gcs'] = train[['gcs_eyes_apache','gcs_motor_apache','gcs_unable_apache','gcs_verbal_apache']].mean(axis =1)\n",
    "test['gcs'] = test[['gcs_eyes_apache','gcs_motor_apache','gcs_unable_apache','gcs_verbal_apache']].mean(axis =1)"
   ]
  },
  {
   "cell_type": "code",
   "execution_count": 21,
   "metadata": {},
   "outputs": [],
   "source": [
    "train['gcs'].fillna(train['gcs'].mean(), inplace = True)\n",
    "test['gcs'].fillna(test['gcs'].mean(), inplace = True)"
   ]
  },
  {
   "cell_type": "code",
   "execution_count": 22,
   "metadata": {},
   "outputs": [],
   "source": [
    "#train = replace_missing_value(train, train_numerical_cols)\n",
    "#train[test_numerical_cols].apply(lambda x: x.fillna(x.mean()),axis=0)"
   ]
  },
  {
   "cell_type": "code",
   "execution_count": 23,
   "metadata": {},
   "outputs": [],
   "source": [
    "#test[test_numerical_cols].fillna(test[test_numerical_cols].mean(), inplace=True)\n",
    "#test[test_numerical_cols].apply(lambda x: x.fillna(x.mean()),axis=0)"
   ]
  },
  {
   "cell_type": "code",
   "execution_count": 24,
   "metadata": {},
   "outputs": [],
   "source": [
    "#test[test_numerical_cols].isna().any()"
   ]
  },
  {
   "cell_type": "code",
   "execution_count": 25,
   "metadata": {},
   "outputs": [],
   "source": [
    "train.drop(train.loc[train['hospital_admit_source']=='Observation'].index, inplace=True)\n",
    "#train.drop(train.loc[train['gender'].isna()].index, inplace=True)"
   ]
  },
  {
   "cell_type": "code",
   "execution_count": 26,
   "metadata": {},
   "outputs": [
    {
     "data": {
      "text/plain": [
       "\"\\nfor col in train_categorical_cols:\\n    print('\\n' + col)\\n    print(train[col].unique())\\n    print(test[col].unique())\\n\""
      ]
     },
     "execution_count": 26,
     "metadata": {},
     "output_type": "execute_result"
    }
   ],
   "source": [
    "'''\n",
    "for col in train_categorical_cols:\n",
    "    print('\\n' + col)\n",
    "    print(train[col].unique())\n",
    "    print(test[col].unique())\n",
    "'''"
   ]
  },
  {
   "cell_type": "code",
   "execution_count": 27,
   "metadata": {},
   "outputs": [
    {
     "data": {
      "text/plain": [
       "(91703, 187)"
      ]
     },
     "execution_count": 27,
     "metadata": {},
     "output_type": "execute_result"
    }
   ],
   "source": [
    "train.shape"
   ]
  },
  {
   "cell_type": "code",
   "execution_count": 28,
   "metadata": {},
   "outputs": [
    {
     "data": {
      "text/plain": [
       "91.37524815113768"
      ]
     },
     "execution_count": 28,
     "metadata": {},
     "output_type": "execute_result"
    }
   ],
   "source": [
    "100 - (7907 / 91678) * 100"
   ]
  },
  {
   "cell_type": "code",
   "execution_count": 29,
   "metadata": {},
   "outputs": [
    {
     "data": {
      "text/plain": [
       "10.594536486657391"
      ]
     },
     "execution_count": 29,
     "metadata": {},
     "output_type": "execute_result"
    }
   ],
   "source": [
    "#train.loc[train['hospital_death']== 1].count()\n",
    "#91678  - 7907\n",
    "83771 / 7907"
   ]
  },
  {
   "cell_type": "code",
   "execution_count": 30,
   "metadata": {},
   "outputs": [],
   "source": [
    "#train[train['apache_2_bodysystem'] == 'Undefined Diagnoses'].count()"
   ]
  },
  {
   "cell_type": "code",
   "execution_count": 31,
   "metadata": {},
   "outputs": [
    {
     "data": {
      "text/plain": [
       "array(['Floor', 'Emergency Department', 'Operating Room', nan,\n",
       "       'Direct Admit', 'Other Hospital', 'Other ICU', 'ICU to SDU',\n",
       "       'Recovery Room', 'Chest Pain Center', 'Step-Down Unit (SDU)',\n",
       "       'Acute Care/Floor', 'PACU', 'ICU', 'Other'], dtype=object)"
      ]
     },
     "execution_count": 31,
     "metadata": {},
     "output_type": "execute_result"
    }
   ],
   "source": [
    "train['hospital_admit_source'].unique()"
   ]
  },
  {
   "cell_type": "code",
   "execution_count": 32,
   "metadata": {},
   "outputs": [],
   "source": [
    "#train[train['apache_2_bodysystem'] == 'Undefined diagnoses'].count()\n",
    "train.loc[train['apache_2_bodysystem'] == 'Undefined Diagnoses', 'apache_2_bodysystem'] = 'Undefined diagnoses'\n",
    "test.loc[test['apache_2_bodysystem'] == 'Undefined Diagnoses', 'apache_2_bodysystem'] = 'Undefined diagnoses'"
   ]
  },
  {
   "cell_type": "code",
   "execution_count": 33,
   "metadata": {},
   "outputs": [],
   "source": [
    "train['apache_2_bodysystem'] = train['apache_2_bodysystem'].fillna(\"Undefined diagnoses\")\n",
    "test['apache_2_bodysystem'] = test['apache_2_bodysystem'].fillna(\"Undefined diagnoses\")"
   ]
  },
  {
   "cell_type": "code",
   "execution_count": 34,
   "metadata": {},
   "outputs": [],
   "source": [
    "train['ethnicity'] = train['ethnicity'].fillna(\"Other/Unknown\")\n",
    "test['ethnicity'] = test['ethnicity'].fillna(\"Other/Unknown\")"
   ]
  },
  {
   "cell_type": "code",
   "execution_count": 35,
   "metadata": {},
   "outputs": [],
   "source": [
    "train['hospital_admit_source'] = train['hospital_admit_source'].fillna(\"Other\")\n",
    "test['hospital_admit_source'] = test['hospital_admit_source'].fillna(\"Other\")"
   ]
  },
  {
   "cell_type": "code",
   "execution_count": 36,
   "metadata": {},
   "outputs": [],
   "source": [
    "train['icu_admit_source'] = train['icu_admit_source'].fillna(\"Other ICU\")\n",
    "test['icu_admit_source'] = test['icu_admit_source'].fillna(\"Other ICU\")"
   ]
  },
  {
   "cell_type": "code",
   "execution_count": 37,
   "metadata": {},
   "outputs": [],
   "source": [
    "train['gender'] = train['gender'].fillna(\"NA\")\n",
    "test['gender'] = test['gender'].fillna(\"NA\")"
   ]
  },
  {
   "cell_type": "code",
   "execution_count": 38,
   "metadata": {},
   "outputs": [
    {
     "data": {
      "text/html": [
       "<div>\n",
       "<style scoped>\n",
       "    .dataframe tbody tr th:only-of-type {\n",
       "        vertical-align: middle;\n",
       "    }\n",
       "\n",
       "    .dataframe tbody tr th {\n",
       "        vertical-align: top;\n",
       "    }\n",
       "\n",
       "    .dataframe thead th {\n",
       "        text-align: right;\n",
       "    }\n",
       "</style>\n",
       "<table border=\"1\" class=\"dataframe\">\n",
       "  <thead>\n",
       "    <tr style=\"text-align: right;\">\n",
       "      <th></th>\n",
       "      <th>encounter_id</th>\n",
       "      <th>patient_id</th>\n",
       "      <th>hospital_id</th>\n",
       "      <th>hospital_death</th>\n",
       "      <th>age</th>\n",
       "      <th>bmi</th>\n",
       "      <th>elective_surgery</th>\n",
       "      <th>ethnicity</th>\n",
       "      <th>gender</th>\n",
       "      <th>height</th>\n",
       "      <th>hospital_admit_source</th>\n",
       "      <th>icu_admit_source</th>\n",
       "      <th>icu_id</th>\n",
       "      <th>icu_stay_type</th>\n",
       "      <th>icu_type</th>\n",
       "      <th>pre_icu_los_days</th>\n",
       "      <th>readmission_status</th>\n",
       "      <th>weight</th>\n",
       "      <th>albumin_apache</th>\n",
       "      <th>apache_2_diagnosis</th>\n",
       "      <th>apache_3j_diagnosis</th>\n",
       "      <th>apache_post_operative</th>\n",
       "      <th>arf_apache</th>\n",
       "      <th>bilirubin_apache</th>\n",
       "      <th>bun_apache</th>\n",
       "      <th>creatinine_apache</th>\n",
       "      <th>fio2_apache</th>\n",
       "      <th>gcs_eyes_apache</th>\n",
       "      <th>gcs_motor_apache</th>\n",
       "      <th>gcs_unable_apache</th>\n",
       "      <th>gcs_verbal_apache</th>\n",
       "      <th>glucose_apache</th>\n",
       "      <th>heart_rate_apache</th>\n",
       "      <th>hematocrit_apache</th>\n",
       "      <th>intubated_apache</th>\n",
       "      <th>map_apache</th>\n",
       "      <th>paco2_apache</th>\n",
       "      <th>paco2_for_ph_apache</th>\n",
       "      <th>pao2_apache</th>\n",
       "      <th>ph_apache</th>\n",
       "      <th>resprate_apache</th>\n",
       "      <th>sodium_apache</th>\n",
       "      <th>temp_apache</th>\n",
       "      <th>urineoutput_apache</th>\n",
       "      <th>ventilated_apache</th>\n",
       "      <th>wbc_apache</th>\n",
       "      <th>d1_diasbp_invasive_max</th>\n",
       "      <th>d1_diasbp_invasive_min</th>\n",
       "      <th>d1_diasbp_max</th>\n",
       "      <th>d1_diasbp_min</th>\n",
       "      <th>d1_diasbp_noninvasive_max</th>\n",
       "      <th>d1_diasbp_noninvasive_min</th>\n",
       "      <th>d1_heartrate_max</th>\n",
       "      <th>d1_heartrate_min</th>\n",
       "      <th>d1_mbp_invasive_max</th>\n",
       "      <th>d1_mbp_invasive_min</th>\n",
       "      <th>d1_mbp_max</th>\n",
       "      <th>d1_mbp_min</th>\n",
       "      <th>d1_mbp_noninvasive_max</th>\n",
       "      <th>d1_mbp_noninvasive_min</th>\n",
       "      <th>d1_resprate_max</th>\n",
       "      <th>d1_resprate_min</th>\n",
       "      <th>d1_spo2_max</th>\n",
       "      <th>d1_spo2_min</th>\n",
       "      <th>d1_sysbp_invasive_max</th>\n",
       "      <th>d1_sysbp_invasive_min</th>\n",
       "      <th>d1_sysbp_max</th>\n",
       "      <th>d1_sysbp_min</th>\n",
       "      <th>d1_sysbp_noninvasive_max</th>\n",
       "      <th>d1_sysbp_noninvasive_min</th>\n",
       "      <th>d1_temp_max</th>\n",
       "      <th>d1_temp_min</th>\n",
       "      <th>h1_diasbp_invasive_max</th>\n",
       "      <th>h1_diasbp_invasive_min</th>\n",
       "      <th>h1_diasbp_max</th>\n",
       "      <th>h1_diasbp_min</th>\n",
       "      <th>h1_diasbp_noninvasive_max</th>\n",
       "      <th>h1_diasbp_noninvasive_min</th>\n",
       "      <th>h1_heartrate_max</th>\n",
       "      <th>h1_heartrate_min</th>\n",
       "      <th>h1_mbp_invasive_max</th>\n",
       "      <th>h1_mbp_invasive_min</th>\n",
       "      <th>h1_mbp_max</th>\n",
       "      <th>h1_mbp_min</th>\n",
       "      <th>h1_mbp_noninvasive_max</th>\n",
       "      <th>h1_mbp_noninvasive_min</th>\n",
       "      <th>h1_resprate_max</th>\n",
       "      <th>h1_resprate_min</th>\n",
       "      <th>h1_spo2_max</th>\n",
       "      <th>h1_spo2_min</th>\n",
       "      <th>h1_sysbp_invasive_max</th>\n",
       "      <th>h1_sysbp_invasive_min</th>\n",
       "      <th>h1_sysbp_max</th>\n",
       "      <th>h1_sysbp_min</th>\n",
       "      <th>h1_sysbp_noninvasive_max</th>\n",
       "      <th>h1_sysbp_noninvasive_min</th>\n",
       "      <th>h1_temp_max</th>\n",
       "      <th>h1_temp_min</th>\n",
       "      <th>d1_albumin_max</th>\n",
       "      <th>d1_albumin_min</th>\n",
       "      <th>d1_bilirubin_max</th>\n",
       "      <th>d1_bilirubin_min</th>\n",
       "      <th>d1_bun_max</th>\n",
       "      <th>d1_bun_min</th>\n",
       "      <th>d1_calcium_max</th>\n",
       "      <th>d1_calcium_min</th>\n",
       "      <th>d1_creatinine_max</th>\n",
       "      <th>d1_creatinine_min</th>\n",
       "      <th>d1_glucose_max</th>\n",
       "      <th>d1_glucose_min</th>\n",
       "      <th>d1_hco3_max</th>\n",
       "      <th>d1_hco3_min</th>\n",
       "      <th>d1_hemaglobin_max</th>\n",
       "      <th>d1_hemaglobin_min</th>\n",
       "      <th>d1_hematocrit_max</th>\n",
       "      <th>d1_hematocrit_min</th>\n",
       "      <th>d1_inr_max</th>\n",
       "      <th>d1_inr_min</th>\n",
       "      <th>d1_lactate_max</th>\n",
       "      <th>d1_lactate_min</th>\n",
       "      <th>d1_platelets_max</th>\n",
       "      <th>d1_platelets_min</th>\n",
       "      <th>d1_potassium_max</th>\n",
       "      <th>d1_potassium_min</th>\n",
       "      <th>d1_sodium_max</th>\n",
       "      <th>d1_sodium_min</th>\n",
       "      <th>d1_wbc_max</th>\n",
       "      <th>d1_wbc_min</th>\n",
       "      <th>h1_albumin_max</th>\n",
       "      <th>h1_albumin_min</th>\n",
       "      <th>h1_bilirubin_max</th>\n",
       "      <th>h1_bilirubin_min</th>\n",
       "      <th>h1_bun_max</th>\n",
       "      <th>h1_bun_min</th>\n",
       "      <th>h1_calcium_max</th>\n",
       "      <th>h1_calcium_min</th>\n",
       "      <th>h1_creatinine_max</th>\n",
       "      <th>h1_creatinine_min</th>\n",
       "      <th>h1_glucose_max</th>\n",
       "      <th>h1_glucose_min</th>\n",
       "      <th>h1_hco3_max</th>\n",
       "      <th>h1_hco3_min</th>\n",
       "      <th>h1_hemaglobin_max</th>\n",
       "      <th>h1_hemaglobin_min</th>\n",
       "      <th>h1_hematocrit_max</th>\n",
       "      <th>h1_hematocrit_min</th>\n",
       "      <th>h1_inr_max</th>\n",
       "      <th>h1_inr_min</th>\n",
       "      <th>h1_lactate_max</th>\n",
       "      <th>h1_lactate_min</th>\n",
       "      <th>h1_platelets_max</th>\n",
       "      <th>h1_platelets_min</th>\n",
       "      <th>h1_potassium_max</th>\n",
       "      <th>h1_potassium_min</th>\n",
       "      <th>h1_sodium_max</th>\n",
       "      <th>h1_sodium_min</th>\n",
       "      <th>h1_wbc_max</th>\n",
       "      <th>h1_wbc_min</th>\n",
       "      <th>d1_arterial_pco2_max</th>\n",
       "      <th>d1_arterial_pco2_min</th>\n",
       "      <th>d1_arterial_ph_max</th>\n",
       "      <th>d1_arterial_ph_min</th>\n",
       "      <th>d1_arterial_po2_max</th>\n",
       "      <th>d1_arterial_po2_min</th>\n",
       "      <th>d1_pao2fio2ratio_max</th>\n",
       "      <th>d1_pao2fio2ratio_min</th>\n",
       "      <th>h1_arterial_pco2_max</th>\n",
       "      <th>h1_arterial_pco2_min</th>\n",
       "      <th>h1_arterial_ph_max</th>\n",
       "      <th>h1_arterial_ph_min</th>\n",
       "      <th>h1_arterial_po2_max</th>\n",
       "      <th>h1_arterial_po2_min</th>\n",
       "      <th>h1_pao2fio2ratio_max</th>\n",
       "      <th>h1_pao2fio2ratio_min</th>\n",
       "      <th>apache_4a_hospital_death_prob</th>\n",
       "      <th>apache_4a_icu_death_prob</th>\n",
       "      <th>aids</th>\n",
       "      <th>cirrhosis</th>\n",
       "      <th>diabetes_mellitus</th>\n",
       "      <th>hepatic_failure</th>\n",
       "      <th>immunosuppression</th>\n",
       "      <th>leukemia</th>\n",
       "      <th>lymphoma</th>\n",
       "      <th>solid_tumor_with_metastasis</th>\n",
       "      <th>apache_3j_bodysystem</th>\n",
       "      <th>apache_2_bodysystem</th>\n",
       "      <th>gcs</th>\n",
       "    </tr>\n",
       "  </thead>\n",
       "  <tbody>\n",
       "    <tr>\n",
       "      <th>44</th>\n",
       "      <td>71147</td>\n",
       "      <td>52594</td>\n",
       "      <td>118</td>\n",
       "      <td>0</td>\n",
       "      <td>60.0</td>\n",
       "      <td>35.452865</td>\n",
       "      <td>1</td>\n",
       "      <td>Caucasian</td>\n",
       "      <td>M</td>\n",
       "      <td>170.2</td>\n",
       "      <td>Operating Room</td>\n",
       "      <td>Operating Room / Recovery</td>\n",
       "      <td>85</td>\n",
       "      <td>admit</td>\n",
       "      <td>SICU</td>\n",
       "      <td>0.002778</td>\n",
       "      <td>0</td>\n",
       "      <td>102.7</td>\n",
       "      <td>NaN</td>\n",
       "      <td>NaN</td>\n",
       "      <td>0.25</td>\n",
       "      <td>0</td>\n",
       "      <td>0.0</td>\n",
       "      <td>NaN</td>\n",
       "      <td>6.0</td>\n",
       "      <td>0.83</td>\n",
       "      <td>NaN</td>\n",
       "      <td>4.0</td>\n",
       "      <td>6.0</td>\n",
       "      <td>0.0</td>\n",
       "      <td>5.0</td>\n",
       "      <td>254.0</td>\n",
       "      <td>97.0</td>\n",
       "      <td>42.0</td>\n",
       "      <td>0.0</td>\n",
       "      <td>145.0</td>\n",
       "      <td>NaN</td>\n",
       "      <td>NaN</td>\n",
       "      <td>NaN</td>\n",
       "      <td>NaN</td>\n",
       "      <td>34.0</td>\n",
       "      <td>137.0</td>\n",
       "      <td>35.7</td>\n",
       "      <td>NaN</td>\n",
       "      <td>1.0</td>\n",
       "      <td>14.4</td>\n",
       "      <td>109.0</td>\n",
       "      <td>48.0</td>\n",
       "      <td>119.0</td>\n",
       "      <td>55.0</td>\n",
       "      <td>119.0</td>\n",
       "      <td>55.0</td>\n",
       "      <td>96.0</td>\n",
       "      <td>71.0</td>\n",
       "      <td>122.0</td>\n",
       "      <td>75.0</td>\n",
       "      <td>145.0</td>\n",
       "      <td>77.0</td>\n",
       "      <td>145.0</td>\n",
       "      <td>77.0</td>\n",
       "      <td>34.0</td>\n",
       "      <td>8.0</td>\n",
       "      <td>100.0</td>\n",
       "      <td>91.0</td>\n",
       "      <td>195.0</td>\n",
       "      <td>121.0</td>\n",
       "      <td>187.0</td>\n",
       "      <td>124.0</td>\n",
       "      <td>187.0</td>\n",
       "      <td>124.0</td>\n",
       "      <td>37.0</td>\n",
       "      <td>35.7</td>\n",
       "      <td>109.0</td>\n",
       "      <td>56.0</td>\n",
       "      <td>119.0</td>\n",
       "      <td>68.0</td>\n",
       "      <td>119.0</td>\n",
       "      <td>68.0</td>\n",
       "      <td>76.0</td>\n",
       "      <td>71.0</td>\n",
       "      <td>122.0</td>\n",
       "      <td>94.0</td>\n",
       "      <td>145.0</td>\n",
       "      <td>104.0</td>\n",
       "      <td>145.0</td>\n",
       "      <td>104.0</td>\n",
       "      <td>27.0</td>\n",
       "      <td>12.0</td>\n",
       "      <td>100.0</td>\n",
       "      <td>92.0</td>\n",
       "      <td>187.0</td>\n",
       "      <td>160.0</td>\n",
       "      <td>183.0</td>\n",
       "      <td>152.0</td>\n",
       "      <td>183.0</td>\n",
       "      <td>152.0</td>\n",
       "      <td>35.7</td>\n",
       "      <td>35.7</td>\n",
       "      <td>NaN</td>\n",
       "      <td>NaN</td>\n",
       "      <td>NaN</td>\n",
       "      <td>NaN</td>\n",
       "      <td>6.0</td>\n",
       "      <td>6.0</td>\n",
       "      <td>8.9</td>\n",
       "      <td>8.6</td>\n",
       "      <td>0.85</td>\n",
       "      <td>0.83</td>\n",
       "      <td>254.0</td>\n",
       "      <td>111.0</td>\n",
       "      <td>28.0</td>\n",
       "      <td>27.0</td>\n",
       "      <td>14.0</td>\n",
       "      <td>13.9</td>\n",
       "      <td>42.3</td>\n",
       "      <td>42.0</td>\n",
       "      <td>NaN</td>\n",
       "      <td>NaN</td>\n",
       "      <td>NaN</td>\n",
       "      <td>NaN</td>\n",
       "      <td>208.0</td>\n",
       "      <td>198.0</td>\n",
       "      <td>4.3</td>\n",
       "      <td>4.2</td>\n",
       "      <td>138.0</td>\n",
       "      <td>137.0</td>\n",
       "      <td>14.4</td>\n",
       "      <td>14.4</td>\n",
       "      <td>NaN</td>\n",
       "      <td>NaN</td>\n",
       "      <td>NaN</td>\n",
       "      <td>NaN</td>\n",
       "      <td>NaN</td>\n",
       "      <td>NaN</td>\n",
       "      <td>NaN</td>\n",
       "      <td>NaN</td>\n",
       "      <td>NaN</td>\n",
       "      <td>NaN</td>\n",
       "      <td>111.0</td>\n",
       "      <td>111.0</td>\n",
       "      <td>NaN</td>\n",
       "      <td>NaN</td>\n",
       "      <td>NaN</td>\n",
       "      <td>NaN</td>\n",
       "      <td>NaN</td>\n",
       "      <td>NaN</td>\n",
       "      <td>NaN</td>\n",
       "      <td>NaN</td>\n",
       "      <td>NaN</td>\n",
       "      <td>NaN</td>\n",
       "      <td>NaN</td>\n",
       "      <td>NaN</td>\n",
       "      <td>NaN</td>\n",
       "      <td>NaN</td>\n",
       "      <td>NaN</td>\n",
       "      <td>NaN</td>\n",
       "      <td>NaN</td>\n",
       "      <td>NaN</td>\n",
       "      <td>NaN</td>\n",
       "      <td>NaN</td>\n",
       "      <td>NaN</td>\n",
       "      <td>NaN</td>\n",
       "      <td>NaN</td>\n",
       "      <td>NaN</td>\n",
       "      <td>NaN</td>\n",
       "      <td>NaN</td>\n",
       "      <td>NaN</td>\n",
       "      <td>NaN</td>\n",
       "      <td>NaN</td>\n",
       "      <td>NaN</td>\n",
       "      <td>NaN</td>\n",
       "      <td>NaN</td>\n",
       "      <td>NaN</td>\n",
       "      <td>NaN</td>\n",
       "      <td>0.02</td>\n",
       "      <td>0.01</td>\n",
       "      <td>0.0</td>\n",
       "      <td>0.0</td>\n",
       "      <td>1.0</td>\n",
       "      <td>0.0</td>\n",
       "      <td>0.0</td>\n",
       "      <td>0.0</td>\n",
       "      <td>0.0</td>\n",
       "      <td>0.0</td>\n",
       "      <td>NaN</td>\n",
       "      <td>Undefined diagnoses</td>\n",
       "      <td>3.75</td>\n",
       "    </tr>\n",
       "    <tr>\n",
       "      <th>83</th>\n",
       "      <td>63576</td>\n",
       "      <td>36677</td>\n",
       "      <td>118</td>\n",
       "      <td>0</td>\n",
       "      <td>56.0</td>\n",
       "      <td>24.542930</td>\n",
       "      <td>1</td>\n",
       "      <td>Hispanic</td>\n",
       "      <td>M</td>\n",
       "      <td>172.7</td>\n",
       "      <td>Operating Room</td>\n",
       "      <td>Operating Room / Recovery</td>\n",
       "      <td>97</td>\n",
       "      <td>admit</td>\n",
       "      <td>MICU</td>\n",
       "      <td>0.739583</td>\n",
       "      <td>0</td>\n",
       "      <td>73.2</td>\n",
       "      <td>NaN</td>\n",
       "      <td>NaN</td>\n",
       "      <td>0.25</td>\n",
       "      <td>0</td>\n",
       "      <td>0.0</td>\n",
       "      <td>NaN</td>\n",
       "      <td>NaN</td>\n",
       "      <td>NaN</td>\n",
       "      <td>NaN</td>\n",
       "      <td>4.0</td>\n",
       "      <td>6.0</td>\n",
       "      <td>0.0</td>\n",
       "      <td>5.0</td>\n",
       "      <td>169.0</td>\n",
       "      <td>102.0</td>\n",
       "      <td>NaN</td>\n",
       "      <td>0.0</td>\n",
       "      <td>56.0</td>\n",
       "      <td>NaN</td>\n",
       "      <td>NaN</td>\n",
       "      <td>NaN</td>\n",
       "      <td>NaN</td>\n",
       "      <td>16.0</td>\n",
       "      <td>NaN</td>\n",
       "      <td>36.6</td>\n",
       "      <td>NaN</td>\n",
       "      <td>1.0</td>\n",
       "      <td>NaN</td>\n",
       "      <td>62.0</td>\n",
       "      <td>44.0</td>\n",
       "      <td>73.0</td>\n",
       "      <td>61.0</td>\n",
       "      <td>73.0</td>\n",
       "      <td>61.0</td>\n",
       "      <td>98.0</td>\n",
       "      <td>66.0</td>\n",
       "      <td>92.0</td>\n",
       "      <td>56.0</td>\n",
       "      <td>102.0</td>\n",
       "      <td>73.0</td>\n",
       "      <td>102.0</td>\n",
       "      <td>73.0</td>\n",
       "      <td>20.0</td>\n",
       "      <td>16.0</td>\n",
       "      <td>99.0</td>\n",
       "      <td>94.0</td>\n",
       "      <td>122.0</td>\n",
       "      <td>80.0</td>\n",
       "      <td>125.0</td>\n",
       "      <td>101.0</td>\n",
       "      <td>125.0</td>\n",
       "      <td>101.0</td>\n",
       "      <td>36.9</td>\n",
       "      <td>36.3</td>\n",
       "      <td>NaN</td>\n",
       "      <td>NaN</td>\n",
       "      <td>NaN</td>\n",
       "      <td>NaN</td>\n",
       "      <td>NaN</td>\n",
       "      <td>NaN</td>\n",
       "      <td>NaN</td>\n",
       "      <td>NaN</td>\n",
       "      <td>NaN</td>\n",
       "      <td>NaN</td>\n",
       "      <td>NaN</td>\n",
       "      <td>NaN</td>\n",
       "      <td>NaN</td>\n",
       "      <td>NaN</td>\n",
       "      <td>16.0</td>\n",
       "      <td>16.0</td>\n",
       "      <td>96.0</td>\n",
       "      <td>96.0</td>\n",
       "      <td>NaN</td>\n",
       "      <td>NaN</td>\n",
       "      <td>NaN</td>\n",
       "      <td>NaN</td>\n",
       "      <td>NaN</td>\n",
       "      <td>NaN</td>\n",
       "      <td>36.9</td>\n",
       "      <td>36.9</td>\n",
       "      <td>NaN</td>\n",
       "      <td>NaN</td>\n",
       "      <td>NaN</td>\n",
       "      <td>NaN</td>\n",
       "      <td>9.0</td>\n",
       "      <td>9.0</td>\n",
       "      <td>8.8</td>\n",
       "      <td>8.8</td>\n",
       "      <td>1.00</td>\n",
       "      <td>1.00</td>\n",
       "      <td>169.0</td>\n",
       "      <td>109.0</td>\n",
       "      <td>33.0</td>\n",
       "      <td>33.0</td>\n",
       "      <td>11.6</td>\n",
       "      <td>11.6</td>\n",
       "      <td>34.9</td>\n",
       "      <td>34.9</td>\n",
       "      <td>NaN</td>\n",
       "      <td>NaN</td>\n",
       "      <td>NaN</td>\n",
       "      <td>NaN</td>\n",
       "      <td>176.0</td>\n",
       "      <td>176.0</td>\n",
       "      <td>3.8</td>\n",
       "      <td>3.8</td>\n",
       "      <td>136.0</td>\n",
       "      <td>136.0</td>\n",
       "      <td>15.7</td>\n",
       "      <td>15.7</td>\n",
       "      <td>NaN</td>\n",
       "      <td>NaN</td>\n",
       "      <td>NaN</td>\n",
       "      <td>NaN</td>\n",
       "      <td>NaN</td>\n",
       "      <td>NaN</td>\n",
       "      <td>NaN</td>\n",
       "      <td>NaN</td>\n",
       "      <td>NaN</td>\n",
       "      <td>NaN</td>\n",
       "      <td>169.0</td>\n",
       "      <td>169.0</td>\n",
       "      <td>NaN</td>\n",
       "      <td>NaN</td>\n",
       "      <td>NaN</td>\n",
       "      <td>NaN</td>\n",
       "      <td>NaN</td>\n",
       "      <td>NaN</td>\n",
       "      <td>NaN</td>\n",
       "      <td>NaN</td>\n",
       "      <td>NaN</td>\n",
       "      <td>NaN</td>\n",
       "      <td>NaN</td>\n",
       "      <td>NaN</td>\n",
       "      <td>NaN</td>\n",
       "      <td>NaN</td>\n",
       "      <td>NaN</td>\n",
       "      <td>NaN</td>\n",
       "      <td>NaN</td>\n",
       "      <td>NaN</td>\n",
       "      <td>NaN</td>\n",
       "      <td>NaN</td>\n",
       "      <td>NaN</td>\n",
       "      <td>NaN</td>\n",
       "      <td>NaN</td>\n",
       "      <td>NaN</td>\n",
       "      <td>NaN</td>\n",
       "      <td>NaN</td>\n",
       "      <td>NaN</td>\n",
       "      <td>NaN</td>\n",
       "      <td>NaN</td>\n",
       "      <td>NaN</td>\n",
       "      <td>NaN</td>\n",
       "      <td>NaN</td>\n",
       "      <td>NaN</td>\n",
       "      <td>NaN</td>\n",
       "      <td>0.02</td>\n",
       "      <td>0.00</td>\n",
       "      <td>0.0</td>\n",
       "      <td>0.0</td>\n",
       "      <td>0.0</td>\n",
       "      <td>0.0</td>\n",
       "      <td>0.0</td>\n",
       "      <td>0.0</td>\n",
       "      <td>0.0</td>\n",
       "      <td>0.0</td>\n",
       "      <td>NaN</td>\n",
       "      <td>Undefined diagnoses</td>\n",
       "      <td>3.75</td>\n",
       "    </tr>\n",
       "    <tr>\n",
       "      <th>136</th>\n",
       "      <td>127089</td>\n",
       "      <td>25073</td>\n",
       "      <td>118</td>\n",
       "      <td>0</td>\n",
       "      <td>64.0</td>\n",
       "      <td>35.951557</td>\n",
       "      <td>1</td>\n",
       "      <td>Caucasian</td>\n",
       "      <td>M</td>\n",
       "      <td>170.0</td>\n",
       "      <td>Operating Room</td>\n",
       "      <td>Operating Room / Recovery</td>\n",
       "      <td>92</td>\n",
       "      <td>admit</td>\n",
       "      <td>CTICU</td>\n",
       "      <td>0.441667</td>\n",
       "      <td>0</td>\n",
       "      <td>103.9</td>\n",
       "      <td>NaN</td>\n",
       "      <td>NaN</td>\n",
       "      <td>0.11</td>\n",
       "      <td>0</td>\n",
       "      <td>0.0</td>\n",
       "      <td>NaN</td>\n",
       "      <td>30.0</td>\n",
       "      <td>1.24</td>\n",
       "      <td>0.6</td>\n",
       "      <td>4.0</td>\n",
       "      <td>6.0</td>\n",
       "      <td>0.0</td>\n",
       "      <td>5.0</td>\n",
       "      <td>202.0</td>\n",
       "      <td>176.0</td>\n",
       "      <td>20.0</td>\n",
       "      <td>1.0</td>\n",
       "      <td>52.0</td>\n",
       "      <td>46.0</td>\n",
       "      <td>46.0</td>\n",
       "      <td>166.0</td>\n",
       "      <td>7.37</td>\n",
       "      <td>31.0</td>\n",
       "      <td>140.0</td>\n",
       "      <td>36.9</td>\n",
       "      <td>NaN</td>\n",
       "      <td>1.0</td>\n",
       "      <td>4.3</td>\n",
       "      <td>66.0</td>\n",
       "      <td>44.0</td>\n",
       "      <td>51.0</td>\n",
       "      <td>51.0</td>\n",
       "      <td>51.0</td>\n",
       "      <td>51.0</td>\n",
       "      <td>146.0</td>\n",
       "      <td>114.0</td>\n",
       "      <td>70.0</td>\n",
       "      <td>52.0</td>\n",
       "      <td>70.0</td>\n",
       "      <td>52.0</td>\n",
       "      <td>NaN</td>\n",
       "      <td>NaN</td>\n",
       "      <td>24.0</td>\n",
       "      <td>14.0</td>\n",
       "      <td>100.0</td>\n",
       "      <td>94.0</td>\n",
       "      <td>146.0</td>\n",
       "      <td>82.0</td>\n",
       "      <td>104.0</td>\n",
       "      <td>104.0</td>\n",
       "      <td>104.0</td>\n",
       "      <td>104.0</td>\n",
       "      <td>37.9</td>\n",
       "      <td>37.1</td>\n",
       "      <td>66.0</td>\n",
       "      <td>48.0</td>\n",
       "      <td>51.0</td>\n",
       "      <td>51.0</td>\n",
       "      <td>51.0</td>\n",
       "      <td>51.0</td>\n",
       "      <td>146.0</td>\n",
       "      <td>139.0</td>\n",
       "      <td>70.0</td>\n",
       "      <td>60.0</td>\n",
       "      <td>70.0</td>\n",
       "      <td>60.0</td>\n",
       "      <td>NaN</td>\n",
       "      <td>NaN</td>\n",
       "      <td>21.0</td>\n",
       "      <td>20.0</td>\n",
       "      <td>100.0</td>\n",
       "      <td>98.0</td>\n",
       "      <td>146.0</td>\n",
       "      <td>88.0</td>\n",
       "      <td>104.0</td>\n",
       "      <td>104.0</td>\n",
       "      <td>104.0</td>\n",
       "      <td>104.0</td>\n",
       "      <td>37.7</td>\n",
       "      <td>37.6</td>\n",
       "      <td>NaN</td>\n",
       "      <td>NaN</td>\n",
       "      <td>NaN</td>\n",
       "      <td>NaN</td>\n",
       "      <td>NaN</td>\n",
       "      <td>NaN</td>\n",
       "      <td>NaN</td>\n",
       "      <td>NaN</td>\n",
       "      <td>NaN</td>\n",
       "      <td>NaN</td>\n",
       "      <td>202.0</td>\n",
       "      <td>123.0</td>\n",
       "      <td>NaN</td>\n",
       "      <td>NaN</td>\n",
       "      <td>7.8</td>\n",
       "      <td>7.3</td>\n",
       "      <td>24.0</td>\n",
       "      <td>20.0</td>\n",
       "      <td>1.1</td>\n",
       "      <td>1.0</td>\n",
       "      <td>NaN</td>\n",
       "      <td>NaN</td>\n",
       "      <td>89.0</td>\n",
       "      <td>74.0</td>\n",
       "      <td>4.8</td>\n",
       "      <td>4.6</td>\n",
       "      <td>NaN</td>\n",
       "      <td>NaN</td>\n",
       "      <td>4.7</td>\n",
       "      <td>4.3</td>\n",
       "      <td>NaN</td>\n",
       "      <td>NaN</td>\n",
       "      <td>NaN</td>\n",
       "      <td>NaN</td>\n",
       "      <td>NaN</td>\n",
       "      <td>NaN</td>\n",
       "      <td>NaN</td>\n",
       "      <td>NaN</td>\n",
       "      <td>NaN</td>\n",
       "      <td>NaN</td>\n",
       "      <td>202.0</td>\n",
       "      <td>182.0</td>\n",
       "      <td>NaN</td>\n",
       "      <td>NaN</td>\n",
       "      <td>7.8</td>\n",
       "      <td>7.8</td>\n",
       "      <td>21.5</td>\n",
       "      <td>21.5</td>\n",
       "      <td>1.1</td>\n",
       "      <td>1.0</td>\n",
       "      <td>NaN</td>\n",
       "      <td>NaN</td>\n",
       "      <td>74.0</td>\n",
       "      <td>74.0</td>\n",
       "      <td>NaN</td>\n",
       "      <td>NaN</td>\n",
       "      <td>NaN</td>\n",
       "      <td>NaN</td>\n",
       "      <td>4.7</td>\n",
       "      <td>4.7</td>\n",
       "      <td>47.0</td>\n",
       "      <td>43.0</td>\n",
       "      <td>7.38</td>\n",
       "      <td>7.37</td>\n",
       "      <td>375.0</td>\n",
       "      <td>114.0</td>\n",
       "      <td>330.0</td>\n",
       "      <td>276.666667</td>\n",
       "      <td>47.0</td>\n",
       "      <td>46.0</td>\n",
       "      <td>7.37</td>\n",
       "      <td>7.37</td>\n",
       "      <td>375.0</td>\n",
       "      <td>166.0</td>\n",
       "      <td>276.666667</td>\n",
       "      <td>276.666667</td>\n",
       "      <td>-1.00</td>\n",
       "      <td>-1.00</td>\n",
       "      <td>0.0</td>\n",
       "      <td>0.0</td>\n",
       "      <td>0.0</td>\n",
       "      <td>0.0</td>\n",
       "      <td>0.0</td>\n",
       "      <td>0.0</td>\n",
       "      <td>0.0</td>\n",
       "      <td>0.0</td>\n",
       "      <td>NaN</td>\n",
       "      <td>Undefined diagnoses</td>\n",
       "      <td>3.75</td>\n",
       "    </tr>\n",
       "  </tbody>\n",
       "</table>\n",
       "</div>"
      ],
      "text/plain": [
       "     encounter_id  patient_id  hospital_id  hospital_death   age        bmi  \\\n",
       "44          71147       52594          118               0  60.0  35.452865   \n",
       "83          63576       36677          118               0  56.0  24.542930   \n",
       "136        127089       25073          118               0  64.0  35.951557   \n",
       "\n",
       "     elective_surgery  ethnicity gender  height hospital_admit_source  \\\n",
       "44                  1  Caucasian      M   170.2        Operating Room   \n",
       "83                  1   Hispanic      M   172.7        Operating Room   \n",
       "136                 1  Caucasian      M   170.0        Operating Room   \n",
       "\n",
       "              icu_admit_source  icu_id icu_stay_type icu_type  \\\n",
       "44   Operating Room / Recovery      85         admit     SICU   \n",
       "83   Operating Room / Recovery      97         admit     MICU   \n",
       "136  Operating Room / Recovery      92         admit    CTICU   \n",
       "\n",
       "     pre_icu_los_days  readmission_status  weight  albumin_apache  \\\n",
       "44           0.002778                   0   102.7             NaN   \n",
       "83           0.739583                   0    73.2             NaN   \n",
       "136          0.441667                   0   103.9             NaN   \n",
       "\n",
       "     apache_2_diagnosis  apache_3j_diagnosis  apache_post_operative  \\\n",
       "44                  NaN                 0.25                      0   \n",
       "83                  NaN                 0.25                      0   \n",
       "136                 NaN                 0.11                      0   \n",
       "\n",
       "     arf_apache  bilirubin_apache  bun_apache  creatinine_apache  fio2_apache  \\\n",
       "44          0.0               NaN         6.0               0.83          NaN   \n",
       "83          0.0               NaN         NaN                NaN          NaN   \n",
       "136         0.0               NaN        30.0               1.24          0.6   \n",
       "\n",
       "     gcs_eyes_apache  gcs_motor_apache  gcs_unable_apache  gcs_verbal_apache  \\\n",
       "44               4.0               6.0                0.0                5.0   \n",
       "83               4.0               6.0                0.0                5.0   \n",
       "136              4.0               6.0                0.0                5.0   \n",
       "\n",
       "     glucose_apache  heart_rate_apache  hematocrit_apache  intubated_apache  \\\n",
       "44            254.0               97.0               42.0               0.0   \n",
       "83            169.0              102.0                NaN               0.0   \n",
       "136           202.0              176.0               20.0               1.0   \n",
       "\n",
       "     map_apache  paco2_apache  paco2_for_ph_apache  pao2_apache  ph_apache  \\\n",
       "44        145.0           NaN                  NaN          NaN        NaN   \n",
       "83         56.0           NaN                  NaN          NaN        NaN   \n",
       "136        52.0          46.0                 46.0        166.0       7.37   \n",
       "\n",
       "     resprate_apache  sodium_apache  temp_apache  urineoutput_apache  \\\n",
       "44              34.0          137.0         35.7                 NaN   \n",
       "83              16.0            NaN         36.6                 NaN   \n",
       "136             31.0          140.0         36.9                 NaN   \n",
       "\n",
       "     ventilated_apache  wbc_apache  d1_diasbp_invasive_max  \\\n",
       "44                 1.0        14.4                   109.0   \n",
       "83                 1.0         NaN                    62.0   \n",
       "136                1.0         4.3                    66.0   \n",
       "\n",
       "     d1_diasbp_invasive_min  d1_diasbp_max  d1_diasbp_min  \\\n",
       "44                     48.0          119.0           55.0   \n",
       "83                     44.0           73.0           61.0   \n",
       "136                    44.0           51.0           51.0   \n",
       "\n",
       "     d1_diasbp_noninvasive_max  d1_diasbp_noninvasive_min  d1_heartrate_max  \\\n",
       "44                       119.0                       55.0              96.0   \n",
       "83                        73.0                       61.0              98.0   \n",
       "136                       51.0                       51.0             146.0   \n",
       "\n",
       "     d1_heartrate_min  d1_mbp_invasive_max  d1_mbp_invasive_min  d1_mbp_max  \\\n",
       "44               71.0                122.0                 75.0       145.0   \n",
       "83               66.0                 92.0                 56.0       102.0   \n",
       "136             114.0                 70.0                 52.0        70.0   \n",
       "\n",
       "     d1_mbp_min  d1_mbp_noninvasive_max  d1_mbp_noninvasive_min  \\\n",
       "44         77.0                   145.0                    77.0   \n",
       "83         73.0                   102.0                    73.0   \n",
       "136        52.0                     NaN                     NaN   \n",
       "\n",
       "     d1_resprate_max  d1_resprate_min  d1_spo2_max  d1_spo2_min  \\\n",
       "44              34.0              8.0        100.0         91.0   \n",
       "83              20.0             16.0         99.0         94.0   \n",
       "136             24.0             14.0        100.0         94.0   \n",
       "\n",
       "     d1_sysbp_invasive_max  d1_sysbp_invasive_min  d1_sysbp_max  d1_sysbp_min  \\\n",
       "44                   195.0                  121.0         187.0         124.0   \n",
       "83                   122.0                   80.0         125.0         101.0   \n",
       "136                  146.0                   82.0         104.0         104.0   \n",
       "\n",
       "     d1_sysbp_noninvasive_max  d1_sysbp_noninvasive_min  d1_temp_max  \\\n",
       "44                      187.0                     124.0         37.0   \n",
       "83                      125.0                     101.0         36.9   \n",
       "136                     104.0                     104.0         37.9   \n",
       "\n",
       "     d1_temp_min  h1_diasbp_invasive_max  h1_diasbp_invasive_min  \\\n",
       "44          35.7                   109.0                    56.0   \n",
       "83          36.3                     NaN                     NaN   \n",
       "136         37.1                    66.0                    48.0   \n",
       "\n",
       "     h1_diasbp_max  h1_diasbp_min  h1_diasbp_noninvasive_max  \\\n",
       "44           119.0           68.0                      119.0   \n",
       "83             NaN            NaN                        NaN   \n",
       "136           51.0           51.0                       51.0   \n",
       "\n",
       "     h1_diasbp_noninvasive_min  h1_heartrate_max  h1_heartrate_min  \\\n",
       "44                        68.0              76.0              71.0   \n",
       "83                         NaN               NaN               NaN   \n",
       "136                       51.0             146.0             139.0   \n",
       "\n",
       "     h1_mbp_invasive_max  h1_mbp_invasive_min  h1_mbp_max  h1_mbp_min  \\\n",
       "44                 122.0                 94.0       145.0       104.0   \n",
       "83                   NaN                  NaN         NaN         NaN   \n",
       "136                 70.0                 60.0        70.0        60.0   \n",
       "\n",
       "     h1_mbp_noninvasive_max  h1_mbp_noninvasive_min  h1_resprate_max  \\\n",
       "44                    145.0                   104.0             27.0   \n",
       "83                      NaN                     NaN             16.0   \n",
       "136                     NaN                     NaN             21.0   \n",
       "\n",
       "     h1_resprate_min  h1_spo2_max  h1_spo2_min  h1_sysbp_invasive_max  \\\n",
       "44              12.0        100.0         92.0                  187.0   \n",
       "83              16.0         96.0         96.0                    NaN   \n",
       "136             20.0        100.0         98.0                  146.0   \n",
       "\n",
       "     h1_sysbp_invasive_min  h1_sysbp_max  h1_sysbp_min  \\\n",
       "44                   160.0         183.0         152.0   \n",
       "83                     NaN           NaN           NaN   \n",
       "136                   88.0         104.0         104.0   \n",
       "\n",
       "     h1_sysbp_noninvasive_max  h1_sysbp_noninvasive_min  h1_temp_max  \\\n",
       "44                      183.0                     152.0         35.7   \n",
       "83                        NaN                       NaN         36.9   \n",
       "136                     104.0                     104.0         37.7   \n",
       "\n",
       "     h1_temp_min  d1_albumin_max  d1_albumin_min  d1_bilirubin_max  \\\n",
       "44          35.7             NaN             NaN               NaN   \n",
       "83          36.9             NaN             NaN               NaN   \n",
       "136         37.6             NaN             NaN               NaN   \n",
       "\n",
       "     d1_bilirubin_min  d1_bun_max  d1_bun_min  d1_calcium_max  d1_calcium_min  \\\n",
       "44                NaN         6.0         6.0             8.9             8.6   \n",
       "83                NaN         9.0         9.0             8.8             8.8   \n",
       "136               NaN         NaN         NaN             NaN             NaN   \n",
       "\n",
       "     d1_creatinine_max  d1_creatinine_min  d1_glucose_max  d1_glucose_min  \\\n",
       "44                0.85               0.83           254.0           111.0   \n",
       "83                1.00               1.00           169.0           109.0   \n",
       "136                NaN                NaN           202.0           123.0   \n",
       "\n",
       "     d1_hco3_max  d1_hco3_min  d1_hemaglobin_max  d1_hemaglobin_min  \\\n",
       "44          28.0         27.0               14.0               13.9   \n",
       "83          33.0         33.0               11.6               11.6   \n",
       "136          NaN          NaN                7.8                7.3   \n",
       "\n",
       "     d1_hematocrit_max  d1_hematocrit_min  d1_inr_max  d1_inr_min  \\\n",
       "44                42.3               42.0         NaN         NaN   \n",
       "83                34.9               34.9         NaN         NaN   \n",
       "136               24.0               20.0         1.1         1.0   \n",
       "\n",
       "     d1_lactate_max  d1_lactate_min  d1_platelets_max  d1_platelets_min  \\\n",
       "44              NaN             NaN             208.0             198.0   \n",
       "83              NaN             NaN             176.0             176.0   \n",
       "136             NaN             NaN              89.0              74.0   \n",
       "\n",
       "     d1_potassium_max  d1_potassium_min  d1_sodium_max  d1_sodium_min  \\\n",
       "44                4.3               4.2          138.0          137.0   \n",
       "83                3.8               3.8          136.0          136.0   \n",
       "136               4.8               4.6            NaN            NaN   \n",
       "\n",
       "     d1_wbc_max  d1_wbc_min  h1_albumin_max  h1_albumin_min  h1_bilirubin_max  \\\n",
       "44         14.4        14.4             NaN             NaN               NaN   \n",
       "83         15.7        15.7             NaN             NaN               NaN   \n",
       "136         4.7         4.3             NaN             NaN               NaN   \n",
       "\n",
       "     h1_bilirubin_min  h1_bun_max  h1_bun_min  h1_calcium_max  h1_calcium_min  \\\n",
       "44                NaN         NaN         NaN             NaN             NaN   \n",
       "83                NaN         NaN         NaN             NaN             NaN   \n",
       "136               NaN         NaN         NaN             NaN             NaN   \n",
       "\n",
       "     h1_creatinine_max  h1_creatinine_min  h1_glucose_max  h1_glucose_min  \\\n",
       "44                 NaN                NaN           111.0           111.0   \n",
       "83                 NaN                NaN           169.0           169.0   \n",
       "136                NaN                NaN           202.0           182.0   \n",
       "\n",
       "     h1_hco3_max  h1_hco3_min  h1_hemaglobin_max  h1_hemaglobin_min  \\\n",
       "44           NaN          NaN                NaN                NaN   \n",
       "83           NaN          NaN                NaN                NaN   \n",
       "136          NaN          NaN                7.8                7.8   \n",
       "\n",
       "     h1_hematocrit_max  h1_hematocrit_min  h1_inr_max  h1_inr_min  \\\n",
       "44                 NaN                NaN         NaN         NaN   \n",
       "83                 NaN                NaN         NaN         NaN   \n",
       "136               21.5               21.5         1.1         1.0   \n",
       "\n",
       "     h1_lactate_max  h1_lactate_min  h1_platelets_max  h1_platelets_min  \\\n",
       "44              NaN             NaN               NaN               NaN   \n",
       "83              NaN             NaN               NaN               NaN   \n",
       "136             NaN             NaN              74.0              74.0   \n",
       "\n",
       "     h1_potassium_max  h1_potassium_min  h1_sodium_max  h1_sodium_min  \\\n",
       "44                NaN               NaN            NaN            NaN   \n",
       "83                NaN               NaN            NaN            NaN   \n",
       "136               NaN               NaN            NaN            NaN   \n",
       "\n",
       "     h1_wbc_max  h1_wbc_min  d1_arterial_pco2_max  d1_arterial_pco2_min  \\\n",
       "44          NaN         NaN                   NaN                   NaN   \n",
       "83          NaN         NaN                   NaN                   NaN   \n",
       "136         4.7         4.7                  47.0                  43.0   \n",
       "\n",
       "     d1_arterial_ph_max  d1_arterial_ph_min  d1_arterial_po2_max  \\\n",
       "44                  NaN                 NaN                  NaN   \n",
       "83                  NaN                 NaN                  NaN   \n",
       "136                7.38                7.37                375.0   \n",
       "\n",
       "     d1_arterial_po2_min  d1_pao2fio2ratio_max  d1_pao2fio2ratio_min  \\\n",
       "44                   NaN                   NaN                   NaN   \n",
       "83                   NaN                   NaN                   NaN   \n",
       "136                114.0                 330.0            276.666667   \n",
       "\n",
       "     h1_arterial_pco2_max  h1_arterial_pco2_min  h1_arterial_ph_max  \\\n",
       "44                    NaN                   NaN                 NaN   \n",
       "83                    NaN                   NaN                 NaN   \n",
       "136                  47.0                  46.0                7.37   \n",
       "\n",
       "     h1_arterial_ph_min  h1_arterial_po2_max  h1_arterial_po2_min  \\\n",
       "44                  NaN                  NaN                  NaN   \n",
       "83                  NaN                  NaN                  NaN   \n",
       "136                7.37                375.0                166.0   \n",
       "\n",
       "     h1_pao2fio2ratio_max  h1_pao2fio2ratio_min  \\\n",
       "44                    NaN                   NaN   \n",
       "83                    NaN                   NaN   \n",
       "136            276.666667            276.666667   \n",
       "\n",
       "     apache_4a_hospital_death_prob  apache_4a_icu_death_prob  aids  cirrhosis  \\\n",
       "44                            0.02                      0.01   0.0        0.0   \n",
       "83                            0.02                      0.00   0.0        0.0   \n",
       "136                          -1.00                     -1.00   0.0        0.0   \n",
       "\n",
       "     diabetes_mellitus  hepatic_failure  immunosuppression  leukemia  \\\n",
       "44                 1.0              0.0                0.0       0.0   \n",
       "83                 0.0              0.0                0.0       0.0   \n",
       "136                0.0              0.0                0.0       0.0   \n",
       "\n",
       "     lymphoma  solid_tumor_with_metastasis apache_3j_bodysystem  \\\n",
       "44        0.0                          0.0                  NaN   \n",
       "83        0.0                          0.0                  NaN   \n",
       "136       0.0                          0.0                  NaN   \n",
       "\n",
       "     apache_2_bodysystem   gcs  \n",
       "44   Undefined diagnoses  3.75  \n",
       "83   Undefined diagnoses  3.75  \n",
       "136  Undefined diagnoses  3.75  "
      ]
     },
     "execution_count": 38,
     "metadata": {},
     "output_type": "execute_result"
    }
   ],
   "source": [
    "train[train['apache_3j_bodysystem'].isna()].head(3)"
   ]
  },
  {
   "cell_type": "code",
   "execution_count": 39,
   "metadata": {},
   "outputs": [],
   "source": [
    "train[train_categorical_cols] = train[train_categorical_cols].fillna(\"NA\")\n",
    "test[test_categorical_cols] = test[test_categorical_cols].fillna(\"NA\")"
   ]
  },
  {
   "cell_type": "code",
   "execution_count": 40,
   "metadata": {},
   "outputs": [],
   "source": [
    "train[train_numerical_cols] = train[train_numerical_cols].fillna(train[train_numerical_cols].median())\n",
    "test[test_numerical_cols] = test[test_numerical_cols].fillna(test[test_numerical_cols].median())\n"
   ]
  },
  {
   "cell_type": "code",
   "execution_count": 41,
   "metadata": {},
   "outputs": [],
   "source": [
    "#train[train_numerical_cols].isna().any()"
   ]
  },
  {
   "cell_type": "code",
   "execution_count": 42,
   "metadata": {},
   "outputs": [],
   "source": [
    "train_allcols = train.columns.values.tolist()\n",
    "test_allcols = test.columns.values.tolist()\n",
    "allcols = train.columns.values.tolist()\n",
    "inputcols = allcols[4:]\n",
    "outputcols = allcols[3]"
   ]
  },
  {
   "cell_type": "code",
   "execution_count": 43,
   "metadata": {},
   "outputs": [],
   "source": [
    "inputcols.remove('gcs_eyes_apache')\n",
    "inputcols.remove('gcs_motor_apache')\n",
    "inputcols.remove('gcs_unable_apache')\n",
    "inputcols.remove('gcs_verbal_apache')"
   ]
  },
  {
   "cell_type": "code",
   "execution_count": 44,
   "metadata": {},
   "outputs": [
    {
     "data": {
      "text/plain": [
       "179"
      ]
     },
     "execution_count": 44,
     "metadata": {},
     "output_type": "execute_result"
    }
   ],
   "source": [
    "len(inputcols)"
   ]
  },
  {
   "cell_type": "code",
   "execution_count": 45,
   "metadata": {},
   "outputs": [
    {
     "data": {
      "text/plain": [
       "\"\\ncols_to_remove.append('h1_inr_max')\\ncols_to_remove.append('h1_inr_min')\\ncols_to_remove.append('paco2_for_ph_apache')\\ncols_to_remove.append('d1_bilirubin_max')\\ncols_to_remove.append('d1_bilirubin_min')\\n\""
      ]
     },
     "execution_count": 45,
     "metadata": {},
     "output_type": "execute_result"
    }
   ],
   "source": [
    "'''\n",
    "cols_to_remove.append('h1_inr_max')\n",
    "cols_to_remove.append('h1_inr_min')\n",
    "cols_to_remove.append('paco2_for_ph_apache')\n",
    "cols_to_remove.append('d1_bilirubin_max')\n",
    "cols_to_remove.append('d1_bilirubin_min')\n",
    "'''"
   ]
  },
  {
   "cell_type": "code",
   "execution_count": 46,
   "metadata": {},
   "outputs": [
    {
     "data": {
      "text/plain": [
       "'\\nfor col in cols_to_remove:\\n    inputcols.remove(col)\\n'"
      ]
     },
     "execution_count": 46,
     "metadata": {},
     "output_type": "execute_result"
    }
   ],
   "source": [
    "'''\n",
    "for col in cols_to_remove:\n",
    "    inputcols.remove(col)\n",
    "'''"
   ]
  },
  {
   "cell_type": "code",
   "execution_count": 47,
   "metadata": {},
   "outputs": [
    {
     "data": {
      "text/plain": [
       "179"
      ]
     },
     "execution_count": 47,
     "metadata": {},
     "output_type": "execute_result"
    }
   ],
   "source": [
    "len(inputcols)"
   ]
  },
  {
   "cell_type": "code",
   "execution_count": 48,
   "metadata": {},
   "outputs": [],
   "source": [
    "#train_categorical_cols.append('hospital_id')\n",
    "#inputcols.append('hospital_id')"
   ]
  },
  {
   "cell_type": "code",
   "execution_count": 49,
   "metadata": {},
   "outputs": [
    {
     "data": {
      "text/plain": [
       "False"
      ]
     },
     "execution_count": 49,
     "metadata": {},
     "output_type": "execute_result"
    }
   ],
   "source": [
    "'hospital_id' in inputcols"
   ]
  },
  {
   "cell_type": "code",
   "execution_count": 50,
   "metadata": {},
   "outputs": [],
   "source": [
    "X = train[inputcols]\n",
    "y = train[outputcols]"
   ]
  },
  {
   "cell_type": "code",
   "execution_count": 51,
   "metadata": {},
   "outputs": [],
   "source": [
    "train_pool = Pool(data=X,label = y,cat_features=train_categorical_cols,\n",
    "#                   baseline= X_train[\"\"], ## \n",
    "                   #group_id = ['encounter_id']\n",
    "                 )"
   ]
  },
  {
   "cell_type": "code",
   "execution_count": 52,
   "metadata": {
    "_kg_hide-output": true
   },
   "outputs": [
    {
     "data": {
      "text/plain": [
       "'\\ngrid = {\\'learning_rate\\': [0.01, 0.04],\\n        \\'depth\\': [10],\\n        #\\'l2_leaf_reg\\': [3,4,5],\\n        \"iterations\": [500],\\n        \"custom_metric\":[\\'Logloss\\', \\'AUC\\']}\\n\\nmodel = CatBoostClassifier(task_type=\"GPU\")\\n\\n## can also do randomized search - more efficient typically, especially for large search space - `randomized_search`\\ngrid_search_result = model.grid_search(grid, \\n                                       train_pool,\\n                                       plot=True,\\n                                       refit = True, #  refit best model on all data\\n                                      partition_random_seed=42)\\n\\nprint(model.get_best_score())\\nprint(\"best model params: \\n\",grid_search_result[\"params\"])\\n'"
      ]
     },
     "execution_count": 52,
     "metadata": {},
     "output_type": "execute_result"
    }
   ],
   "source": [
    "### hyperparameter tuning example grid for catboost : \n",
    "'''\n",
    "grid = {'learning_rate': [0.01, 0.04],\n",
    "        'depth': [10],\n",
    "        #'l2_leaf_reg': [3,4,5],\n",
    "        \"iterations\": [500],\n",
    "        \"custom_metric\":['Logloss', 'AUC']}\n",
    "\n",
    "model = CatBoostClassifier(task_type=\"GPU\")\n",
    "\n",
    "## can also do randomized search - more efficient typically, especially for large search space - `randomized_search`\n",
    "grid_search_result = model.grid_search(grid, \n",
    "                                       train_pool,\n",
    "                                       plot=True,\n",
    "                                       refit = True, #  refit best model on all data\n",
    "                                      partition_random_seed=42)\n",
    "\n",
    "print(model.get_best_score())\n",
    "print(\"best model params: \\n\",grid_search_result[\"params\"])\n",
    "'''"
   ]
  },
  {
   "cell_type": "code",
   "execution_count": 53,
   "metadata": {},
   "outputs": [
    {
     "data": {
      "text/plain": [
       "'\\npredictions = []\\nscale_pos_weight = 10.594536486657391\\n\\n#0.07260908767\\nfor i in range(10):\\n    clf = CatBoostClassifier(learning_rate=0.08000100126274019, depth = 10,loss_function=\\'Logloss\\', eval_metric = \\'AUC\\', \\n                             custom_metric= [\\'AUC\\'], iterations=1000, l2_leaf_reg = 4,task_type=\"GPU\", random_seed=i, logging_level=\\'Silent\\')\\n    clf.fit(train_pool, plot=True,silent=True)\\n    predictions.append(clf.predict_proba(test[inputcols])[:,1])\\n    print(clf.get_best_score())\\n    \\nprediction = np.mean(predictions, axis=0)\\ntest[\"hospital_death\"] = prediction\\ntest[[\"encounter_id\",\"hospital_death\"]].to_csv(\"0901.csv\",index=False)\\n#{\\'learn\\': {\\'Logloss\\': 0.08512141544067534}} # 08177070126274019 #08000100126274019\\n'"
      ]
     },
     "execution_count": 53,
     "metadata": {},
     "output_type": "execute_result"
    }
   ],
   "source": [
    "'''\n",
    "predictions = []\n",
    "scale_pos_weight = 10.594536486657391\n",
    "\n",
    "#0.07260908767\n",
    "for i in range(10):\n",
    "    clf = CatBoostClassifier(learning_rate=0.08000100126274019, depth = 10,loss_function='Logloss', eval_metric = 'AUC', \n",
    "                             custom_metric= ['AUC'], iterations=1000, l2_leaf_reg = 4,task_type=\"GPU\", random_seed=i, logging_level='Silent')\n",
    "    clf.fit(train_pool, plot=True,silent=True)\n",
    "    predictions.append(clf.predict_proba(test[inputcols])[:,1])\n",
    "    print(clf.get_best_score())\n",
    "    \n",
    "prediction = np.mean(predictions, axis=0)\n",
    "test[\"hospital_death\"] = prediction\n",
    "test[[\"encounter_id\",\"hospital_death\"]].to_csv(\"0901.csv\",index=False)\n",
    "#{'learn': {'Logloss': 0.08512141544067534}} # 08177070126274019 #08000100126274019\n",
    "'''"
   ]
  },
  {
   "cell_type": "code",
   "execution_count": 54,
   "metadata": {},
   "outputs": [
    {
     "data": {
      "text/plain": [
       "'\\npredictions = []\\nscale_pos_weight = 10.594536486657391\\n\\n#0.07260908767\\nfor i in range(10):\\n    clf = CatBoostClassifier(learning_rate=0.08000100126274019, boosting_type=\\'Ordered\\', depth = 10,loss_function=\\'Logloss\\', eval_metric = \\'AUC\\', custom_metric= [\\'AUC\\'], iterations=1000, l2_leaf_reg = 4,task_type=\"GPU\", random_seed=i, logging_level=\\'Silent\\')\\n    clf.fit(train_pool, plot=True,silent=True)\\n    predictions.append(clf.predict_proba(test[inputcols])[:,1])\\n    print(clf.get_best_score())\\n    \\nprediction = np.mean(predictions, axis=0)\\ntest[\"hospital_death\"] = prediction\\ntest[[\"encounter_id\",\"hospital_death\"]].to_csv(\"0902.csv\",index=False)\\n#{\\'learn\\': {\\'Logloss\\': 0.08512141544067534}} # 08177070126274019 #08000100126274019\\n'"
      ]
     },
     "execution_count": 54,
     "metadata": {},
     "output_type": "execute_result"
    }
   ],
   "source": [
    "'''\n",
    "predictions = []\n",
    "scale_pos_weight = 10.594536486657391\n",
    "\n",
    "#0.07260908767\n",
    "for i in range(10):\n",
    "    clf = CatBoostClassifier(learning_rate=0.08000100126274019, boosting_type='Ordered', depth = 10,loss_function='Logloss', eval_metric = 'AUC', custom_metric= ['AUC'], iterations=1000, l2_leaf_reg = 4,task_type=\"GPU\", random_seed=i, logging_level='Silent')\n",
    "    clf.fit(train_pool, plot=True,silent=True)\n",
    "    predictions.append(clf.predict_proba(test[inputcols])[:,1])\n",
    "    print(clf.get_best_score())\n",
    "    \n",
    "prediction = np.mean(predictions, axis=0)\n",
    "test[\"hospital_death\"] = prediction\n",
    "test[[\"encounter_id\",\"hospital_death\"]].to_csv(\"0902.csv\",index=False)\n",
    "#{'learn': {'Logloss': 0.08512141544067534}} # 08177070126274019 #08000100126274019\n",
    "'''"
   ]
  },
  {
   "cell_type": "code",
   "execution_count": 55,
   "metadata": {},
   "outputs": [
    {
     "data": {
      "text/plain": [
       "'\\npredictions = []\\nscale_pos_weight = 10.594536486657391\\n\\n#0.07260908767\\nfor i in range(10):\\n    clf = CatBoostClassifier(learning_rate=0.08277070126274019,depth = 10,loss_function=\\'Logloss\\', eval_metric = \\'AUC\\', custom_metric= [\\'AUC\\'], iterations=1000, l2_leaf_reg = 4,task_type=\"GPU\", random_seed=i, logging_level=\\'Silent\\')\\n    clf.fit(train_pool, plot=True,silent=True)\\n    predictions.append(clf.predict_proba(test[inputcols])[:,1])\\n    print(clf.get_best_score())\\n    \\nprediction = np.mean(predictions, axis=0)\\ntest[\"hospital_death\"] = prediction\\ntest[[\"encounter_id\",\"hospital_death\"]].to_csv(\"0217.csv\",index=False)\\n#{\\'learn\\': {\\'Logloss\\': 0.08512141544067534}}\\n'"
      ]
     },
     "execution_count": 55,
     "metadata": {},
     "output_type": "execute_result"
    }
   ],
   "source": [
    "'''\n",
    "predictions = []\n",
    "scale_pos_weight = 10.594536486657391\n",
    "\n",
    "#0.07260908767\n",
    "for i in range(10):\n",
    "    clf = CatBoostClassifier(learning_rate=0.08277070126274019,depth = 10,loss_function='Logloss', eval_metric = 'AUC', custom_metric= ['AUC'], iterations=1000, l2_leaf_reg = 4,task_type=\"GPU\", random_seed=i, logging_level='Silent')\n",
    "    clf.fit(train_pool, plot=True,silent=True)\n",
    "    predictions.append(clf.predict_proba(test[inputcols])[:,1])\n",
    "    print(clf.get_best_score())\n",
    "    \n",
    "prediction = np.mean(predictions, axis=0)\n",
    "test[\"hospital_death\"] = prediction\n",
    "test[[\"encounter_id\",\"hospital_death\"]].to_csv(\"0217.csv\",index=False)\n",
    "#{'learn': {'Logloss': 0.08512141544067534}}\n",
    "'''"
   ]
  },
  {
   "cell_type": "code",
   "execution_count": 56,
   "metadata": {},
   "outputs": [
    {
     "name": "stdout",
     "output_type": "stream",
     "text": [
      "evaluating params={'learning_rate': 0.08166369766256534, 'depth': 8, 'l2_leaf_reg': 8.835837790286535, 'task_type': 'GPU', 'loss_function': 'Logloss', 'eval_metric': 'AUC', 'custom_metric': ['AUC'], 'iterations': 1000, 'random_seed': 20181224}\n",
      "evaluated score=0.9034430533647537\n",
      "evaluated 1 times\n",
      "evaluating params={'learning_rate': 0.08216426010912047, 'depth': 3, 'l2_leaf_reg': 3.841780975474402, 'task_type': 'GPU', 'loss_function': 'Logloss', 'eval_metric': 'AUC', 'custom_metric': ['AUC'], 'iterations': 1000, 'random_seed': 20181224}\n",
      "evaluated score=0.9010914315780004\n",
      "evaluated 2 times\n",
      "evaluating params={'learning_rate': 0.03513458486822593, 'depth': 5, 'l2_leaf_reg': 9.464266235679002, 'task_type': 'GPU', 'loss_function': 'Logloss', 'eval_metric': 'AUC', 'custom_metric': ['AUC'], 'iterations': 1000, 'random_seed': 20181224}\n",
      "evaluated score=0.9012968391180038\n",
      "evaluated 3 times\n",
      "evaluating params={'learning_rate': 0.01278048883653391, 'depth': 3, 'l2_leaf_reg': 7.1682035345674, 'task_type': 'GPU', 'loss_function': 'Logloss', 'eval_metric': 'AUC', 'custom_metric': ['AUC'], 'iterations': 1000, 'random_seed': 20181224}\n",
      "evaluated score=0.8922746131817499\n",
      "evaluated 4 times\n",
      "evaluating params={'learning_rate': 0.03258380118517355, 'depth': 5, 'l2_leaf_reg': 9.166597045734488, 'task_type': 'GPU', 'loss_function': 'Logloss', 'eval_metric': 'AUC', 'custom_metric': ['AUC'], 'iterations': 1000, 'random_seed': 20181224}\n",
      "evaluated score=0.9009787191947302\n",
      "evaluated 5 times\n",
      "evaluating params={'learning_rate': 0.05540270246249476, 'depth': 9, 'l2_leaf_reg': 6.57277845681401, 'task_type': 'GPU', 'loss_function': 'Logloss', 'eval_metric': 'AUC', 'custom_metric': ['AUC'], 'iterations': 1000, 'random_seed': 20181224}\n",
      "evaluated score=0.9028487205505371\n",
      "evaluated 6 times\n",
      "evaluating params={'learning_rate': 0.026498858965656825, 'depth': 7, 'l2_leaf_reg': 4.627187180193483, 'task_type': 'GPU', 'loss_function': 'Logloss', 'eval_metric': 'AUC', 'custom_metric': ['AUC'], 'iterations': 1000, 'random_seed': 20181224}\n",
      "evaluated score=0.9013999998569489\n",
      "evaluated 7 times\n",
      "evaluating params={'learning_rate': 0.06952034309715643, 'depth': 10, 'l2_leaf_reg': 5.9053685596093874, 'task_type': 'GPU', 'loss_function': 'Logloss', 'eval_metric': 'AUC', 'custom_metric': ['AUC'], 'iterations': 1000, 'random_seed': 20181224}\n",
      "evaluated score=0.9028379966815313\n",
      "evaluated 8 times\n",
      "evaluating params={'learning_rate': 0.0399363692256425, 'depth': 10, 'l2_leaf_reg': 6.531608540940916, 'task_type': 'GPU', 'loss_function': 'Logloss', 'eval_metric': 'AUC', 'custom_metric': ['AUC'], 'iterations': 1000, 'random_seed': 20181224}\n",
      "evaluated score=0.9030016859372457\n",
      "evaluated 9 times\n",
      "evaluating params={'learning_rate': 0.062338418743052904, 'depth': 5, 'l2_leaf_reg': 6.706159252357066, 'task_type': 'GPU', 'loss_function': 'Logloss', 'eval_metric': 'AUC', 'custom_metric': ['AUC'], 'iterations': 1000, 'random_seed': 20181224}\n",
      "evaluated score=0.9026610205570856\n",
      "evaluated 10 times\n",
      "evaluating params={'learning_rate': 0.08766975823630567, 'depth': 0, 'l2_leaf_reg': 5.966611099029412, 'task_type': 'GPU', 'loss_function': 'Logloss', 'eval_metric': 'AUC', 'custom_metric': ['AUC'], 'iterations': 1000, 'random_seed': 20181224}\n",
      "evaluated score=0.5\n",
      "evaluated 11 times\n",
      "evaluating params={'learning_rate': 0.062034515327899116, 'depth': 5, 'l2_leaf_reg': 8.583949294731982, 'task_type': 'GPU', 'loss_function': 'Logloss', 'eval_metric': 'AUC', 'custom_metric': ['AUC'], 'iterations': 1000, 'random_seed': 20181224}\n",
      "evaluated score=0.9027382681767145\n",
      "evaluated 12 times\n",
      "evaluating params={'learning_rate': 0.08454576961335919, 'depth': 1, 'l2_leaf_reg': 5.857082940614299, 'task_type': 'GPU', 'loss_function': 'Logloss', 'eval_metric': 'AUC', 'custom_metric': ['AUC'], 'iterations': 1000, 'random_seed': 20181224}\n",
      "evaluated score=0.8936384369929632\n",
      "evaluated 13 times\n",
      "evaluating params={'learning_rate': 0.06679907626299843, 'depth': 10, 'l2_leaf_reg': 6.130033478034561, 'task_type': 'GPU', 'loss_function': 'Logloss', 'eval_metric': 'AUC', 'custom_metric': ['AUC'], 'iterations': 1000, 'random_seed': 20181224}\n",
      "evaluated score=0.9025035152832667\n",
      "evaluated 14 times\n",
      "evaluating params={'learning_rate': 0.05058437837818211, 'depth': 5, 'l2_leaf_reg': 9.327068131764127, 'task_type': 'GPU', 'loss_function': 'Logloss', 'eval_metric': 'AUC', 'custom_metric': ['AUC'], 'iterations': 1000, 'random_seed': 20181224}\n",
      "evaluated score=0.90214903652668\n",
      "evaluated 15 times\n",
      "100%|██████████| 15/15 [6:13:12<00:00, 1492.83s/it, best loss: -0.9034430533647537]\n",
      "best params are {'depth': 8, 'l2_leaf_reg': 8.835837790286535, 'learning_rate': 0.08166369766256534, 'task_type': 'GPU', 'loss_function': 'Logloss', 'eval_metric': 'AUC', 'custom_metric': ['AUC'], 'iterations': 1000, 'random_seed': 20181224}\n"
     ]
    }
   ],
   "source": [
    "\n",
    "class UciAdultClassifierObjective(object):\n",
    "    def __init__(self, dataset, const_params, fold_count):\n",
    "        self._dataset = dataset\n",
    "        self._const_params = const_params.copy()\n",
    "        self._fold_count = fold_count\n",
    "        self._evaluated_count = 0\n",
    "        \n",
    "    def _to_catboost_params(self, hyper_params):\n",
    "        return {\n",
    "            'learning_rate': hyper_params['learning_rate'],\n",
    "            'depth': hyper_params['depth'],\n",
    "            'l2_leaf_reg': hyper_params['l2_leaf_reg']}\n",
    "    \n",
    "    # hyperopt optimizes an objective using `__call__` method (e.g. by doing \n",
    "    # `foo(hyper_params)`), so we provide one\n",
    "    def __call__(self, hyper_params):\n",
    "        # join hyper-parameters provided by hyperopt with hyper-parameters \n",
    "        # provided by the user\n",
    "        params = self._to_catboost_params(hyper_params)\n",
    "        params.update(self._const_params)\n",
    "        \n",
    "        print('evaluating params={}'.format(params), file=sys.stdout)\n",
    "        sys.stdout.flush()\n",
    "        \n",
    "        # we use cross-validation for objective evaluation, to avoid overfitting\n",
    "        scores = cb.cv(\n",
    "            pool=self._dataset,\n",
    "            params=params,\n",
    "            fold_count=self._fold_count,\n",
    "            partition_random_seed=20181224,\n",
    "            verbose=False)\n",
    "        \n",
    "        # scores returns a dictionary with mean and std (per-fold) of metric \n",
    "        # value for each cv iteration, we choose minimal value of objective \n",
    "        # mean (though it will be better to choose minimal value among all folds)\n",
    "        # because noise is additive\n",
    "        max_mean_auc = np.max(scores['test-AUC-mean'])\n",
    "        print('evaluated score={}'.format(max_mean_auc), file=sys.stdout)\n",
    "        \n",
    "        self._evaluated_count += 1\n",
    "        print('evaluated {} times'.format(self._evaluated_count), file=sys.stdout)\n",
    "        \n",
    "        # negate because hyperopt minimizes the objective\n",
    "        return {'loss': -max_mean_auc, 'status': hyperopt.STATUS_OK}\n",
    "    \n",
    "def find_best_hyper_params(dataset, const_params, max_evals=100):    \n",
    "    # we are going to optimize these three parameters, though there are a lot more of them (see CatBoost docs)\n",
    "    parameter_space = {\n",
    "        'learning_rate': hyperopt.hp.uniform('learning_rate', 0.01, 0.1),\n",
    "        'depth': hyperopt.hp.randint('depth', 12),\n",
    "        'l2_leaf_reg': hyperopt.hp.uniform('l2_leaf_reg', 1, 10)}\n",
    "    objective = UciAdultClassifierObjective(dataset=dataset, const_params=const_params, fold_count=6)\n",
    "    trials = hyperopt.Trials()\n",
    "    best = hyperopt.fmin(\n",
    "        fn=objective,\n",
    "        space=parameter_space,\n",
    "        algo=hyperopt.rand.suggest,\n",
    "        max_evals=max_evals,\n",
    "        rstate=np.random.RandomState(seed=20181224))\n",
    "    return best\n",
    "\n",
    "def train_best_model(X, y, const_params, max_evals=100, use_default=False):\n",
    "    # convert pandas.DataFrame to catboost.Pool to avoid converting it on each \n",
    "    # iteration of hyper-parameters optimization\n",
    "    dataset = Pool(X, y, cat_features=train_categorical_cols)\n",
    "    \n",
    "    if use_default:\n",
    "        # pretrained optimal parameters\n",
    "        best = {\n",
    "            'learning_rate': 0.4234185321620083, \n",
    "            'depth': 5, \n",
    "            'l2_leaf_reg': 9.464266235679002}\n",
    "    else:\n",
    "        best = find_best_hyper_params(dataset, const_params, max_evals=max_evals)\n",
    "    \n",
    "    # merge subset of hyper-parameters provided by hyperopt with hyper-parameters \n",
    "    # provided by the user\n",
    "    hyper_params = best.copy()\n",
    "    hyper_params.update(const_params)\n",
    "    \n",
    "    # drop `use_best_model` because we are going to use entire dataset for \n",
    "    # training of the final model\n",
    "    hyper_params.pop('use_best_model', None)\n",
    "    \n",
    "    model = cb.CatBoostClassifier(**hyper_params)\n",
    "    model.fit(dataset, verbose=False)\n",
    "    \n",
    "    return model, hyper_params\n",
    "\n",
    "\n",
    "# make it True if your want to use GPU for training\n",
    "have_gpu = True\n",
    "# skip hyper-parameter optimization and just use provided optimal parameters\n",
    "use_optimal_pretrained_params = False\n",
    "# number of iterations of hyper-parameter search\n",
    "hyperopt_iterations = 15\n",
    "\n",
    "const_params = dict({\n",
    "    'task_type': 'GPU' if have_gpu else 'CPU',\n",
    "    'loss_function': 'Logloss',\n",
    "    'eval_metric': 'AUC', \n",
    "    'custom_metric': ['AUC'],\n",
    "    'iterations': 1000,\n",
    "    'random_seed': 20181224})\n",
    "\n",
    "model, params = train_best_model(\n",
    "    X, y, \n",
    "    const_params, \n",
    "    max_evals=hyperopt_iterations, \n",
    "    use_default=use_optimal_pretrained_params)\n",
    "print('best params are {}'.format(params), file=sys.stdout)"
   ]
  },
  {
   "cell_type": "code",
   "execution_count": 57,
   "metadata": {},
   "outputs": [
    {
     "name": "stdout",
     "output_type": "stream",
     "text": [
      "hyper completed\n"
     ]
    }
   ],
   "source": [
    "print('hyper completed')"
   ]
  },
  {
   "cell_type": "code",
   "execution_count": 58,
   "metadata": {},
   "outputs": [
    {
     "data": {
      "text/plain": [
       "'\\npredictions = []\\nscale_pos_weight = 10.594536486657391\\nrandom_seed = 20181224\\n\\n#0.07260908767\\nfor i in range(10):\\n    clf = CatBoostClassifier(learning_rate=0.08577070126274019,depth = 10,loss_function=\\'Logloss\\', \\n                             eval_metric = \\'AUC\\', custom_metric= [\\'AUC\\'], iterations=1000, \\n                             l2_leaf_reg = 4,task_type=\"GPU\", random_seed=i, logging_level=\\'Silent\\')\\n    clf.fit(train_pool, plot=True,silent=True)\\n    predictions.append(clf.predict_proba(test[inputcols])[:,1])\\n    print(clf.get_best_score())\\n    \\nprediction = np.mean(predictions, axis=0)\\ntest[\"hospital_death\"] = prediction\\ntest[[\"encounter_id\",\"hospital_death\"]].to_csv(\"0212.csv\",index=False)\\n#{\\'learn\\': {\\'Logloss\\': 0.08512141544067534}}\\n'"
      ]
     },
     "execution_count": 58,
     "metadata": {},
     "output_type": "execute_result"
    }
   ],
   "source": [
    "'''\n",
    "predictions = []\n",
    "scale_pos_weight = 10.594536486657391\n",
    "random_seed = 20181224\n",
    "\n",
    "#0.07260908767\n",
    "for i in range(10):\n",
    "    clf = CatBoostClassifier(learning_rate=0.08577070126274019,depth = 10,loss_function='Logloss', \n",
    "                             eval_metric = 'AUC', custom_metric= ['AUC'], iterations=1000, \n",
    "                             l2_leaf_reg = 4,task_type=\"GPU\", random_seed=i, logging_level='Silent')\n",
    "    clf.fit(train_pool, plot=True,silent=True)\n",
    "    predictions.append(clf.predict_proba(test[inputcols])[:,1])\n",
    "    print(clf.get_best_score())\n",
    "    \n",
    "prediction = np.mean(predictions, axis=0)\n",
    "test[\"hospital_death\"] = prediction\n",
    "test[[\"encounter_id\",\"hospital_death\"]].to_csv(\"0212.csv\",index=False)\n",
    "#{'learn': {'Logloss': 0.08512141544067534}}\n",
    "'''"
   ]
  },
  {
   "cell_type": "code",
   "execution_count": 59,
   "metadata": {},
   "outputs": [
    {
     "data": {
      "text/plain": [
       "'\\npredictions = []\\nscale_pos_weight = 10.594536486657391\\nrandom_seed = 20181224\\n\\n#0.07260908767\\nfor i in range(10):\\n    clf = CatBoostClassifier(learning_rate=0.08277070126274019,depth = 10,loss_function=\\'Logloss\\', \\n                             eval_metric = \\'AUC\\', custom_metric= [\\'AUC\\'], iterations=1000, \\n                             l2_leaf_reg = 4,task_type=\"GPU\", random_seed=i, logging_level=\\'Silent\\')\\n    clf.fit(train_pool, plot=True,silent=True)\\n    predictions.append(clf.predict_proba(test[inputcols])[:,1])\\n    print(clf.get_best_score())\\n    \\nprediction = np.mean(predictions, axis=0)\\ntest[\"hospital_death\"] = prediction\\ntest[[\"encounter_id\",\"hospital_death\"]].to_csv(\"0210.csv\",index=False)\\n#{\\'learn\\': {\\'Logloss\\': 0.08512141544067534}}\\n'"
      ]
     },
     "execution_count": 59,
     "metadata": {},
     "output_type": "execute_result"
    }
   ],
   "source": [
    "'''\n",
    "predictions = []\n",
    "scale_pos_weight = 10.594536486657391\n",
    "random_seed = 20181224\n",
    "\n",
    "#0.07260908767\n",
    "for i in range(10):\n",
    "    clf = CatBoostClassifier(learning_rate=0.08277070126274019,depth = 10,loss_function='Logloss', \n",
    "                             eval_metric = 'AUC', custom_metric= ['AUC'], iterations=1000, \n",
    "                             l2_leaf_reg = 4,task_type=\"GPU\", random_seed=i, logging_level='Silent')\n",
    "    clf.fit(train_pool, plot=True,silent=True)\n",
    "    predictions.append(clf.predict_proba(test[inputcols])[:,1])\n",
    "    print(clf.get_best_score())\n",
    "    \n",
    "prediction = np.mean(predictions, axis=0)\n",
    "test[\"hospital_death\"] = prediction\n",
    "test[[\"encounter_id\",\"hospital_death\"]].to_csv(\"0210.csv\",index=False)\n",
    "#{'learn': {'Logloss': 0.08512141544067534}}\n",
    "'''"
   ]
  },
  {
   "cell_type": "code",
   "execution_count": 60,
   "metadata": {},
   "outputs": [
    {
     "name": "stdout",
     "output_type": "stream",
     "text": [
      "completed\n"
     ]
    }
   ],
   "source": [
    "print('completed')"
   ]
  },
  {
   "cell_type": "code",
   "execution_count": null,
   "metadata": {},
   "outputs": [],
   "source": []
  }
 ],
 "metadata": {
  "kernelspec": {
   "display_name": "Python 3",
   "language": "python",
   "name": "python3"
  },
  "language_info": {
   "codemirror_mode": {
    "name": "ipython",
    "version": 3
   },
   "file_extension": ".py",
   "mimetype": "text/x-python",
   "name": "python",
   "nbconvert_exporter": "python",
   "pygments_lexer": "ipython3",
   "version": "3.6.6"
  }
 },
 "nbformat": 4,
 "nbformat_minor": 1
}
